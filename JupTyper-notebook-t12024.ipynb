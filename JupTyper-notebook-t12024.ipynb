{
 "cells": [
  {
   "cell_type": "markdown",
   "id": "dd7d58bb",
   "metadata": {},
   "source": [
    "# Recipe for Rating: Predict Food Ratings using ML\n",
    "Building models that can predict the ratings for each recipe using this information.\n",
    "This problem is a multi-class classification in supervised learning.\n",
    "We will use XGBClassifier and RandomForestClassifier for better accuracy."
   ]
  },
  {
   "cell_type": "code",
   "execution_count": 1,
   "id": "97d6354b",
   "metadata": {
    "_cell_guid": "b1076dfc-b9ad-4769-8c92-a6c4dae69d19",
    "_uuid": "8f2839f25d086af736a60e9eeb907d3b93b6e0e5",
    "execution": {
     "iopub.execute_input": "2024-01-29T15:03:45.473998Z",
     "iopub.status.busy": "2024-01-29T15:03:45.473075Z",
     "iopub.status.idle": "2024-01-29T15:03:45.945784Z",
     "shell.execute_reply": "2024-01-29T15:03:45.944281Z"
    },
    "papermill": {
     "duration": 0.490597,
     "end_time": "2024-01-29T15:03:45.948776",
     "exception": false,
     "start_time": "2024-01-29T15:03:45.458179",
     "status": "completed"
    },
    "tags": []
   },
   "outputs": [],
   "source": [
    "import numpy as np # linear algebra\n",
    "import pandas as pd # data processing, CSV file I/O (e.g. pd.read_csv)\n"
   ]
  },
  {
   "cell_type": "code",
   "execution_count": 2,
   "id": "b83368f4",
   "metadata": {
    "execution": {
     "iopub.execute_input": "2024-01-29T15:03:45.975938Z",
     "iopub.status.busy": "2024-01-29T15:03:45.975216Z",
     "iopub.status.idle": "2024-01-29T15:03:46.243937Z",
     "shell.execute_reply": "2024-01-29T15:03:46.242763Z"
    },
    "papermill": {
     "duration": 0.285678,
     "end_time": "2024-01-29T15:03:46.246868",
     "exception": false,
     "start_time": "2024-01-29T15:03:45.961190",
     "status": "completed"
    },
    "tags": []
   },
   "outputs": [],
   "source": [
    "train_set=pd.read_csv('train.csv')\n",
    "test_set=pd.read_csv('test.csv')"
   ]
  },
  {
   "cell_type": "code",
   "execution_count": 3,
   "id": "d8e3d35c",
   "metadata": {
    "execution": {
     "iopub.execute_input": "2024-01-29T15:03:46.274305Z",
     "iopub.status.busy": "2024-01-29T15:03:46.273873Z",
     "iopub.status.idle": "2024-01-29T15:03:46.287147Z",
     "shell.execute_reply": "2024-01-29T15:03:46.286016Z"
    },
    "papermill": {
     "duration": 0.030698,
     "end_time": "2024-01-29T15:03:46.289596",
     "exception": false,
     "start_time": "2024-01-29T15:03:46.258898",
     "status": "completed"
    },
    "tags": []
   },
   "outputs": [],
   "source": [
    "test_set['Rating']=np.nan"
   ]
  },
  {
   "cell_type": "code",
   "execution_count": 4,
   "id": "79db610b",
   "metadata": {
    "execution": {
     "iopub.execute_input": "2024-01-29T15:03:46.317637Z",
     "iopub.status.busy": "2024-01-29T15:03:46.317144Z",
     "iopub.status.idle": "2024-01-29T15:03:46.336558Z",
     "shell.execute_reply": "2024-01-29T15:03:46.335336Z"
    },
    "papermill": {
     "duration": 0.037484,
     "end_time": "2024-01-29T15:03:46.339249",
     "exception": false,
     "start_time": "2024-01-29T15:03:46.301765",
     "status": "completed"
    },
    "tags": []
   },
   "outputs": [],
   "source": [
    "dataset=pd.concat([train_set,test_set]) # train and test so we can perform same data transformation on both."
   ]
  },
  {
   "cell_type": "code",
   "execution_count": 5,
   "id": "19767b1e",
   "metadata": {
    "execution": {
     "iopub.execute_input": "2024-01-29T15:03:46.365651Z",
     "iopub.status.busy": "2024-01-29T15:03:46.365183Z",
     "iopub.status.idle": "2024-01-29T15:03:46.392008Z",
     "shell.execute_reply": "2024-01-29T15:03:46.390699Z"
    },
    "papermill": {
     "duration": 0.043567,
     "end_time": "2024-01-29T15:03:46.394963",
     "exception": false,
     "start_time": "2024-01-29T15:03:46.351396",
     "status": "completed"
    },
    "tags": []
   },
   "outputs": [
    {
     "data": {
      "text/html": [
       "<div>\n",
       "<style scoped>\n",
       "    .dataframe tbody tr th:only-of-type {\n",
       "        vertical-align: middle;\n",
       "    }\n",
       "\n",
       "    .dataframe tbody tr th {\n",
       "        vertical-align: top;\n",
       "    }\n",
       "\n",
       "    .dataframe thead th {\n",
       "        text-align: right;\n",
       "    }\n",
       "</style>\n",
       "<table border=\"1\" class=\"dataframe\">\n",
       "  <thead>\n",
       "    <tr style=\"text-align: right;\">\n",
       "      <th></th>\n",
       "      <th>ID</th>\n",
       "      <th>RecipeNumber</th>\n",
       "      <th>RecipeCode</th>\n",
       "      <th>RecipeName</th>\n",
       "      <th>CommentID</th>\n",
       "      <th>UserID</th>\n",
       "      <th>UserName</th>\n",
       "      <th>UserReputation</th>\n",
       "      <th>CreationTimestamp</th>\n",
       "      <th>ReplyCount</th>\n",
       "      <th>ThumbsUpCount</th>\n",
       "      <th>ThumbsDownCount</th>\n",
       "      <th>Rating</th>\n",
       "      <th>BestScore</th>\n",
       "      <th>Recipe_Review</th>\n",
       "    </tr>\n",
       "  </thead>\n",
       "  <tbody>\n",
       "    <tr>\n",
       "      <th>0</th>\n",
       "      <td>70</td>\n",
       "      <td>71</td>\n",
       "      <td>12259</td>\n",
       "      <td>Banana Bars with Cream Cheese Frosting</td>\n",
       "      <td>sp_aUSaElGf_12259_c_149978</td>\n",
       "      <td>u_1oKVaBmiEKwAFyiHrDLoWpbel0J</td>\n",
       "      <td>misscoffeepot</td>\n",
       "      <td>20</td>\n",
       "      <td>1622717078</td>\n",
       "      <td>0</td>\n",
       "      <td>0</td>\n",
       "      <td>0</td>\n",
       "      <td>5.0</td>\n",
       "      <td>100</td>\n",
       "      <td>great recipe! I have made them just as written...</td>\n",
       "    </tr>\n",
       "    <tr>\n",
       "      <th>1</th>\n",
       "      <td>72</td>\n",
       "      <td>88</td>\n",
       "      <td>8202</td>\n",
       "      <td>Simple Taco Soup</td>\n",
       "      <td>sp_aUSaElGf_8202_c_310332</td>\n",
       "      <td>u_1oKZeRIXYzGNhGW8OMR3O4lX1ih</td>\n",
       "      <td>MichelleMalone</td>\n",
       "      <td>1</td>\n",
       "      <td>1622717852</td>\n",
       "      <td>0</td>\n",
       "      <td>0</td>\n",
       "      <td>1</td>\n",
       "      <td>5.0</td>\n",
       "      <td>100</td>\n",
       "      <td>This is an easy and quick recipe that is great...</td>\n",
       "    </tr>\n",
       "    <tr>\n",
       "      <th>2</th>\n",
       "      <td>458</td>\n",
       "      <td>3</td>\n",
       "      <td>2832</td>\n",
       "      <td>Cheeseburger Soup</td>\n",
       "      <td>sp_aUSaElGf_2832_c_206522</td>\n",
       "      <td>u_1oKYHUtdaD48KJCDYq5wfpAUxWz</td>\n",
       "      <td>jeannem32</td>\n",
       "      <td>1</td>\n",
       "      <td>1622717357</td>\n",
       "      <td>0</td>\n",
       "      <td>0</td>\n",
       "      <td>0</td>\n",
       "      <td>3.0</td>\n",
       "      <td>100</td>\n",
       "      <td>I think I was looking for something extra spec...</td>\n",
       "    </tr>\n",
       "    <tr>\n",
       "      <th>3</th>\n",
       "      <td>7</td>\n",
       "      <td>50</td>\n",
       "      <td>100276</td>\n",
       "      <td>Grilled Huli Huli Chicken</td>\n",
       "      <td>sp_aUSaElGf_100276_c_434088</td>\n",
       "      <td>u_1oKZCQcKQZdQhDVBS7oISc216VA</td>\n",
       "      <td>ds422</td>\n",
       "      <td>1</td>\n",
       "      <td>1622648899</td>\n",
       "      <td>0</td>\n",
       "      <td>0</td>\n",
       "      <td>0</td>\n",
       "      <td>5.0</td>\n",
       "      <td>100</td>\n",
       "      <td>This is our favorite grilled chicken recipe.  ...</td>\n",
       "    </tr>\n",
       "    <tr>\n",
       "      <th>4</th>\n",
       "      <td>60</td>\n",
       "      <td>12</td>\n",
       "      <td>19731</td>\n",
       "      <td>Cauliflower Soup</td>\n",
       "      <td>sp_aUSaElGf_19731_c_387011</td>\n",
       "      <td>u_1oKd4sudZQPgu6YALiC7bW7mKMs</td>\n",
       "      <td>SusanHoward</td>\n",
       "      <td>1</td>\n",
       "      <td>1622718260</td>\n",
       "      <td>0</td>\n",
       "      <td>0</td>\n",
       "      <td>0</td>\n",
       "      <td>4.0</td>\n",
       "      <td>100</td>\n",
       "      <td>Great basic recipe. I added 2 teaspoons Tuscan...</td>\n",
       "    </tr>\n",
       "  </tbody>\n",
       "</table>\n",
       "</div>"
      ],
      "text/plain": [
       "    ID  RecipeNumber  RecipeCode                              RecipeName  \\\n",
       "0   70            71       12259  Banana Bars with Cream Cheese Frosting   \n",
       "1   72            88        8202                        Simple Taco Soup   \n",
       "2  458             3        2832                       Cheeseburger Soup   \n",
       "3    7            50      100276               Grilled Huli Huli Chicken   \n",
       "4   60            12       19731                        Cauliflower Soup   \n",
       "\n",
       "                     CommentID                         UserID        UserName  \\\n",
       "0   sp_aUSaElGf_12259_c_149978  u_1oKVaBmiEKwAFyiHrDLoWpbel0J   misscoffeepot   \n",
       "1    sp_aUSaElGf_8202_c_310332  u_1oKZeRIXYzGNhGW8OMR3O4lX1ih  MichelleMalone   \n",
       "2    sp_aUSaElGf_2832_c_206522  u_1oKYHUtdaD48KJCDYq5wfpAUxWz       jeannem32   \n",
       "3  sp_aUSaElGf_100276_c_434088  u_1oKZCQcKQZdQhDVBS7oISc216VA           ds422   \n",
       "4   sp_aUSaElGf_19731_c_387011  u_1oKd4sudZQPgu6YALiC7bW7mKMs     SusanHoward   \n",
       "\n",
       "   UserReputation  CreationTimestamp  ReplyCount  ThumbsUpCount  \\\n",
       "0              20         1622717078           0              0   \n",
       "1               1         1622717852           0              0   \n",
       "2               1         1622717357           0              0   \n",
       "3               1         1622648899           0              0   \n",
       "4               1         1622718260           0              0   \n",
       "\n",
       "   ThumbsDownCount  Rating  BestScore  \\\n",
       "0                0     5.0        100   \n",
       "1                1     5.0        100   \n",
       "2                0     3.0        100   \n",
       "3                0     5.0        100   \n",
       "4                0     4.0        100   \n",
       "\n",
       "                                       Recipe_Review  \n",
       "0  great recipe! I have made them just as written...  \n",
       "1  This is an easy and quick recipe that is great...  \n",
       "2  I think I was looking for something extra spec...  \n",
       "3  This is our favorite grilled chicken recipe.  ...  \n",
       "4  Great basic recipe. I added 2 teaspoons Tuscan...  "
      ]
     },
     "execution_count": 5,
     "metadata": {},
     "output_type": "execute_result"
    }
   ],
   "source": [
    "dataset.head()"
   ]
  },
  {
   "cell_type": "markdown",
   "id": "96001a48",
   "metadata": {},
   "source": [
    "# Feature  engineering  \n",
    "selecting, manipulating and transforming raw data into features  so that can be used in  our model."
   ]
  },
  {
   "cell_type": "code",
   "execution_count": 6,
   "id": "533108d1",
   "metadata": {
    "execution": {
     "iopub.execute_input": "2024-01-29T15:03:46.458307Z",
     "iopub.status.busy": "2024-01-29T15:03:46.457910Z",
     "iopub.status.idle": "2024-01-29T15:03:46.501571Z",
     "shell.execute_reply": "2024-01-29T15:03:46.500295Z"
    },
    "papermill": {
     "duration": 0.061253,
     "end_time": "2024-01-29T15:03:46.505139",
     "exception": false,
     "start_time": "2024-01-29T15:03:46.443886",
     "status": "completed"
    },
    "tags": []
   },
   "outputs": [
    {
     "data": {
      "text/plain": [
       "ID                     725\n",
       "RecipeNumber           100\n",
       "RecipeCode             100\n",
       "RecipeName             100\n",
       "CommentID            18182\n",
       "UserID               13812\n",
       "UserName             13586\n",
       "UserReputation          22\n",
       "CreationTimestamp     2695\n",
       "ReplyCount               4\n",
       "ThumbsUpCount           62\n",
       "ThumbsDownCount         58\n",
       "Rating                   6\n",
       "BestScore              588\n",
       "Recipe_Review        17731\n",
       "dtype: int64"
      ]
     },
     "execution_count": 6,
     "metadata": {},
     "output_type": "execute_result"
    }
   ],
   "source": [
    "dataset.nunique()"
   ]
  },
  {
   "cell_type": "code",
   "execution_count": 7,
   "id": "8d517ea9",
   "metadata": {
    "execution": {
     "iopub.execute_input": "2024-01-29T15:03:46.533503Z",
     "iopub.status.busy": "2024-01-29T15:03:46.532216Z",
     "iopub.status.idle": "2024-01-29T15:03:46.549245Z",
     "shell.execute_reply": "2024-01-29T15:03:46.548313Z"
    },
    "papermill": {
     "duration": 0.033569,
     "end_time": "2024-01-29T15:03:46.551563",
     "exception": false,
     "start_time": "2024-01-29T15:03:46.517994",
     "status": "completed"
    },
    "tags": []
   },
   "outputs": [
    {
     "data": {
      "text/plain": [
       "ID                      0\n",
       "RecipeNumber            0\n",
       "RecipeCode              0\n",
       "RecipeName              0\n",
       "CommentID               0\n",
       "UserID                  0\n",
       "UserName                0\n",
       "UserReputation          0\n",
       "CreationTimestamp       0\n",
       "ReplyCount              0\n",
       "ThumbsUpCount           0\n",
       "ThumbsDownCount         0\n",
       "Rating               4546\n",
       "BestScore               0\n",
       "Recipe_Review           2\n",
       "dtype: int64"
      ]
     },
     "execution_count": 7,
     "metadata": {},
     "output_type": "execute_result"
    }
   ],
   "source": [
    "dataset.isnull().sum()"
   ]
  },
  {
   "cell_type": "code",
   "execution_count": 8,
   "id": "34b8b3e8",
   "metadata": {
    "execution": {
     "iopub.execute_input": "2024-01-29T15:03:46.784013Z",
     "iopub.status.busy": "2024-01-29T15:03:46.783519Z",
     "iopub.status.idle": "2024-01-29T15:03:46.793354Z",
     "shell.execute_reply": "2024-01-29T15:03:46.792180Z"
    },
    "papermill": {
     "duration": 0.027435,
     "end_time": "2024-01-29T15:03:46.795995",
     "exception": false,
     "start_time": "2024-01-29T15:03:46.768560",
     "status": "completed"
    },
    "tags": []
   },
   "outputs": [
    {
     "data": {
      "text/plain": [
       "0                Banana Bars with Cream Cheese Frosting\n",
       "1                                      Simple Taco Soup\n",
       "2                                     Cheeseburger Soup\n",
       "3                             Grilled Huli Huli Chicken\n",
       "4                                      Cauliflower Soup\n",
       "5                               Favorite Chicken Potpie\n",
       "6                                   Fluffy Key Lime Pie\n",
       "7                                       Seafood Lasagna\n",
       "8                                    Cheesy Ham Chowder\n",
       "9                                     Cheeseburger Soup\n",
       "10                        First-Place Coconut Macaroons\n",
       "11                                 Rhubarb Custard Bars\n",
       "12                               Garlic Beef Enchiladas\n",
       "13                   Pork Chops with Scalloped Potatoes\n",
       "14                                      Seafood Lasagna\n",
       "15                         Peanut Butter Cup Cheesecake\n",
       "16                             Li’l Cheddar Meat Loaves\n",
       "17                               Chicken Wild Rice Soup\n",
       "18                            Flavorful Chicken Fajitas\n",
       "19                                Enchilada Casser-Ole!\n",
       "20                                   Creamy White Chili\n",
       "21                                  Stuffed Pepper Soup\n",
       "22                                Lemon Blueberry Bread\n",
       "23                                Chicken and Dumplings\n",
       "24                                  Porcupine Meatballs\n",
       "25                            Simple Au Gratin Potatoes\n",
       "26                                 Basic Homemade Bread\n",
       "27                                     Zucchini Cupcake\n",
       "28                                  Forgotten Jambalaya\n",
       "29                            Grilled Huli Huli Chicken\n",
       "30                                      Ravioli Lasagna\n",
       "31             Contest-Winning New England Clam Chowder\n",
       "32                                   Creamy White Chili\n",
       "33                                 Basic Banana Muffins\n",
       "34                                   Creamy Grape Salad\n",
       "35                                Chicken and Dumplings\n",
       "36                                    Cheeseburger Soup\n",
       "37                              Big Soft Ginger Cookies\n",
       "38                                  Forgotten Jambalaya\n",
       "39                                 Basic Banana Muffins\n",
       "40    Pumpkin Spice Cupcakes with Cream Cheese Frosting\n",
       "41                                        Shrimp Scampi\n",
       "42                Chocolate-Strawberry Celebration Cake\n",
       "43                                   Creamy White Chili\n",
       "44             Contest-Winning New England Clam Chowder\n",
       "45                                 Basic Homemade Bread\n",
       "46                                   Cheesy Ham Chowder\n",
       "47                             Easy Peanut Butter Fudge\n",
       "48                         Brown Sugar Oatmeal Pancakes\n",
       "49                                   Cheesy Ham Chowder\n",
       "Name: RecipeName, dtype: object"
      ]
     },
     "execution_count": 8,
     "metadata": {},
     "output_type": "execute_result"
    }
   ],
   "source": [
    "dataset.RecipeName.head(50)"
   ]
  },
  {
   "cell_type": "code",
   "execution_count": 9,
   "id": "e9731940",
   "metadata": {
    "execution": {
     "iopub.execute_input": "2024-01-29T15:03:46.825846Z",
     "iopub.status.busy": "2024-01-29T15:03:46.825383Z",
     "iopub.status.idle": "2024-01-29T15:03:46.836118Z",
     "shell.execute_reply": "2024-01-29T15:03:46.834874Z"
    },
    "papermill": {
     "duration": 0.028675,
     "end_time": "2024-01-29T15:03:46.838644",
     "exception": false,
     "start_time": "2024-01-29T15:03:46.809969",
     "status": "completed"
    },
    "tags": []
   },
   "outputs": [
    {
     "data": {
      "text/plain": [
       "['Banana Bars with Cream Cheese Frosting',\n",
       " 'Simple Taco Soup',\n",
       " 'Cheeseburger Soup',\n",
       " 'Grilled Huli Huli Chicken',\n",
       " 'Cauliflower Soup',\n",
       " 'Favorite Chicken Potpie',\n",
       " 'Fluffy Key Lime Pie',\n",
       " 'Seafood Lasagna',\n",
       " 'Cheesy Ham Chowder',\n",
       " 'First-Place Coconut Macaroons',\n",
       " 'Rhubarb Custard Bars',\n",
       " 'Garlic Beef Enchiladas',\n",
       " 'Pork Chops with Scalloped Potatoes',\n",
       " 'Peanut Butter Cup Cheesecake',\n",
       " 'Li’l Cheddar Meat Loaves',\n",
       " 'Chicken Wild Rice Soup',\n",
       " 'Flavorful Chicken Fajitas',\n",
       " 'Enchilada Casser-Ole!',\n",
       " 'Creamy White Chili',\n",
       " 'Stuffed Pepper Soup',\n",
       " 'Lemon Blueberry Bread',\n",
       " 'Chicken and Dumplings',\n",
       " 'Porcupine Meatballs',\n",
       " 'Simple Au Gratin Potatoes',\n",
       " 'Basic Homemade Bread',\n",
       " 'Zucchini Cupcake',\n",
       " 'Forgotten Jambalaya',\n",
       " 'Ravioli Lasagna',\n",
       " 'Contest-Winning New England Clam Chowder',\n",
       " 'Basic Banana Muffins',\n",
       " 'Creamy Grape Salad',\n",
       " 'Big Soft Ginger Cookies',\n",
       " 'Pumpkin Spice Cupcakes with Cream Cheese Frosting',\n",
       " 'Shrimp Scampi',\n",
       " 'Chocolate-Strawberry Celebration Cake',\n",
       " 'Easy Peanut Butter Fudge',\n",
       " 'Brown Sugar Oatmeal Pancakes',\n",
       " 'Winning Apple Crisp',\n",
       " 'White Bean Chicken Chili',\n",
       " 'Creamy Coleslaw',\n",
       " 'Strawberry Pretzel Salad',\n",
       " 'Hot Milk Cake',\n",
       " 'Caramel Heavenlies',\n",
       " 'Peanut Butter Chocolate Dessert',\n",
       " 'Teriyaki Chicken Thighs',\n",
       " 'Cheeseburger Paradise Soup',\n",
       " 'Apple Pie',\n",
       " 'Favorite Dutch Apple Pie',\n",
       " 'Amish Breakfast Casserole',\n",
       " 'Easy Chicken Enchiladas',\n",
       " 'Pumpkin Bread',\n",
       " 'Pineapple Orange Cake',\n",
       " 'Slow-Cooker Lasagna',\n",
       " 'Baked Tilapia',\n",
       " 'Zucchini Pizza Casserole',\n",
       " 'Best Ever Banana Bread',\n",
       " 'Corn Pudding',\n",
       " 'Chicken Penne Casserole',\n",
       " 'Gluten-Free Banana Bread',\n",
       " 'Chocolate Chip Oatmeal Cookies',\n",
       " 'Comforting Chicken Noodle Soup',\n",
       " 'Sandy’s Chocolate Cake',\n",
       " 'Bruschetta Chicken',\n",
       " 'Rustic Italian Tortellini Soup',\n",
       " 'Black Bean ‘n’ Pumpkin Chili',\n",
       " 'Lime Chicken Tacos',\n",
       " 'Best Ever Potato Soup',\n",
       " 'Buttery Cornbread',\n",
       " 'Special Banana Nut Bread',\n",
       " 'Frosted Banana Bars',\n",
       " 'Smothered Chicken Breasts',\n",
       " 'Quick Cream of Mushroom Soup',\n",
       " 'Vegetarian Linguine',\n",
       " 'Asian Chicken Thighs',\n",
       " 'Traditional Lasagna',\n",
       " 'Mom’s Meat Loaf',\n",
       " 'Flavorful Pot Roast',\n",
       " 'Caramel-Pecan Cheesecake Pie',\n",
       " 'Tennessee Peach Pudding',\n",
       " 'Creamy Macaroni and Cheese',\n",
       " 'Homemade Peanut Butter Cups',\n",
       " 'Chunky Apple Cake',\n",
       " 'Skillet Shepherd’s Pie',\n",
       " 'Egg Roll Noodle Bowl',\n",
       " 'Cherry Bars',\n",
       " 'Mamaw Emily’s Strawberry Cake',\n",
       " 'Pineapple Pudding Cake',\n",
       " 'Moist Chocolate Cake',\n",
       " 'Macaroni Coleslaw',\n",
       " 'Pumpkin Bars',\n",
       " 'Baked Spaghetti',\n",
       " 'Chocolate Guinness Cake',\n",
       " 'Ham and Swiss Sliders',\n",
       " 'Twice-Baked Potato Casserole',\n",
       " 'Taco Lasagna',\n",
       " 'Bacon Macaroni Salad',\n",
       " 'Chocolate Caramel Candy',\n",
       " 'Baked Mushroom Chicken',\n",
       " 'Fluffy Pancakes',\n",
       " 'Blueberry French Toast']"
      ]
     },
     "execution_count": 9,
     "metadata": {},
     "output_type": "execute_result"
    }
   ],
   "source": [
    "dataset.RecipeName.unique().tolist()"
   ]
  },
  {
   "cell_type": "code",
   "execution_count": 10,
   "id": "011bee9a",
   "metadata": {
    "execution": {
     "iopub.execute_input": "2024-01-29T15:03:46.870647Z",
     "iopub.status.busy": "2024-01-29T15:03:46.870194Z",
     "iopub.status.idle": "2024-01-29T15:03:46.932602Z",
     "shell.execute_reply": "2024-01-29T15:03:46.931689Z"
    },
    "papermill": {
     "duration": 0.081049,
     "end_time": "2024-01-29T15:03:46.935299",
     "exception": false,
     "start_time": "2024-01-29T15:03:46.854250",
     "status": "completed"
    },
    "tags": []
   },
   "outputs": [],
   "source": [
    "# split the comment features into 5 parts based on the delimiter \"_\"\n",
    "dataset['CommentID0']=dataset.CommentID.apply(lambda x: x.split('_')[0])\n",
    "dataset['CommentID1']=dataset.CommentID.apply(lambda x: x.split('_')[1])\n",
    "dataset['CommentID2']=dataset.CommentID.apply(lambda x: x.split('_')[2])\n",
    "dataset['CommentID3']=dataset.CommentID.apply(lambda x: x.split('_')[3])\n",
    "dataset['CommentID4']=dataset.CommentID.apply(lambda x: x.split('_')[4])\n"
   ]
  },
  {
   "cell_type": "code",
   "execution_count": 11,
   "id": "82791a4b",
   "metadata": {
    "execution": {
     "iopub.execute_input": "2024-01-29T15:03:46.965454Z",
     "iopub.status.busy": "2024-01-29T15:03:46.964992Z",
     "iopub.status.idle": "2024-01-29T15:03:46.974562Z",
     "shell.execute_reply": "2024-01-29T15:03:46.973319Z"
    },
    "papermill": {
     "duration": 0.027575,
     "end_time": "2024-01-29T15:03:46.977053",
     "exception": false,
     "start_time": "2024-01-29T15:03:46.949478",
     "status": "completed"
    },
    "tags": []
   },
   "outputs": [
    {
     "data": {
      "text/plain": [
       "array(['sp'], dtype=object)"
      ]
     },
     "execution_count": 11,
     "metadata": {},
     "output_type": "execute_result"
    }
   ],
   "source": [
    "dataset.CommentID0.unique() "
   ]
  },
  {
   "cell_type": "code",
   "execution_count": 12,
   "id": "08102910",
   "metadata": {
    "execution": {
     "iopub.execute_input": "2024-01-29T15:03:47.008263Z",
     "iopub.status.busy": "2024-01-29T15:03:47.007816Z",
     "iopub.status.idle": "2024-01-29T15:03:47.017318Z",
     "shell.execute_reply": "2024-01-29T15:03:47.016091Z"
    },
    "papermill": {
     "duration": 0.028041,
     "end_time": "2024-01-29T15:03:47.019550",
     "exception": false,
     "start_time": "2024-01-29T15:03:46.991509",
     "status": "completed"
    },
    "tags": []
   },
   "outputs": [
    {
     "data": {
      "text/plain": [
       "array(['aUSaElGf'], dtype=object)"
      ]
     },
     "execution_count": 12,
     "metadata": {},
     "output_type": "execute_result"
    }
   ],
   "source": [
    "dataset.CommentID1.unique()"
   ]
  },
  {
   "cell_type": "code",
   "execution_count": 13,
   "id": "ca3ff5af",
   "metadata": {
    "execution": {
     "iopub.execute_input": "2024-01-29T15:03:47.053687Z",
     "iopub.status.busy": "2024-01-29T15:03:47.052255Z",
     "iopub.status.idle": "2024-01-29T15:03:47.063781Z",
     "shell.execute_reply": "2024-01-29T15:03:47.062357Z"
    },
    "papermill": {
     "duration": 0.031316,
     "end_time": "2024-01-29T15:03:47.066556",
     "exception": false,
     "start_time": "2024-01-29T15:03:47.035240",
     "status": "completed"
    },
    "tags": []
   },
   "outputs": [
    {
     "data": {
      "text/plain": [
       "array(['12259', '8202', '2832', '100276', '19731', '21444', '36450',\n",
       "       '17310', '12734', '4383', '8431', '10248', '1152', '27675',\n",
       "       '10252', '16579', '12540', '42083', '14299', '2872', '414',\n",
       "       '24886', '1324', '18345', '32480', '7178', '39549', '18274',\n",
       "       '41095', '7708', '32535', '12700', '42386', '28058', '46655',\n",
       "       '8015', '3290', '3058', '39545', '12347', '4444', '386', '3683',\n",
       "       '19201', '42873', '35766', '6086', '9010', '17826', '32264',\n",
       "       '1196', '33206', '11588', '38183', '2912', '3309', '31278',\n",
       "       '39334', '45495', '33121', '9735', '957', '15805', '41101',\n",
       "       '41384', '34347', '9739', '14600', '38550', '1063', '32248',\n",
       "       '11767', '17022', '27434', '12003', '6504', '27696', '35948',\n",
       "       '33743', '36217', '39581', '33457', '27626', '191775', '16458',\n",
       "       '82745', '26937', '1693', '43675', '3143', '1081', '74724',\n",
       "       '141947', '11330', '20170', '18341', '7752', '23222', '7539',\n",
       "       '1821'], dtype=object)"
      ]
     },
     "execution_count": 13,
     "metadata": {},
     "output_type": "execute_result"
    }
   ],
   "source": [
    "dataset.CommentID2.unique()"
   ]
  },
  {
   "cell_type": "code",
   "execution_count": 14,
   "id": "a57032f3",
   "metadata": {
    "execution": {
     "iopub.execute_input": "2024-01-29T15:03:47.099607Z",
     "iopub.status.busy": "2024-01-29T15:03:47.099193Z",
     "iopub.status.idle": "2024-01-29T15:03:47.108349Z",
     "shell.execute_reply": "2024-01-29T15:03:47.107075Z"
    },
    "papermill": {
     "duration": 0.02891,
     "end_time": "2024-01-29T15:03:47.110639",
     "exception": false,
     "start_time": "2024-01-29T15:03:47.081729",
     "status": "completed"
    },
    "tags": []
   },
   "outputs": [
    {
     "data": {
      "text/plain": [
       "array(['c'], dtype=object)"
      ]
     },
     "execution_count": 14,
     "metadata": {},
     "output_type": "execute_result"
    }
   ],
   "source": [
    "dataset.CommentID3.unique()"
   ]
  },
  {
   "cell_type": "code",
   "execution_count": 15,
   "id": "760ea21d",
   "metadata": {
    "execution": {
     "iopub.execute_input": "2024-01-29T15:03:47.143087Z",
     "iopub.status.busy": "2024-01-29T15:03:47.141614Z",
     "iopub.status.idle": "2024-01-29T15:03:47.153201Z",
     "shell.execute_reply": "2024-01-29T15:03:47.151802Z"
    },
    "papermill": {
     "duration": 0.030564,
     "end_time": "2024-01-29T15:03:47.156014",
     "exception": false,
     "start_time": "2024-01-29T15:03:47.125450",
     "status": "completed"
    },
    "tags": []
   },
   "outputs": [
    {
     "data": {
      "text/plain": [
       "array(['149978', '310332', '206522', ..., '112060', '391682', '113484'],\n",
       "      dtype=object)"
      ]
     },
     "execution_count": 15,
     "metadata": {},
     "output_type": "execute_result"
    }
   ],
   "source": [
    "dataset.CommentID4.unique()"
   ]
  },
  {
   "cell_type": "code",
   "execution_count": 16,
   "id": "5ba69307",
   "metadata": {
    "execution": {
     "iopub.execute_input": "2024-01-29T15:03:47.189734Z",
     "iopub.status.busy": "2024-01-29T15:03:47.189249Z",
     "iopub.status.idle": "2024-01-29T15:03:47.215623Z",
     "shell.execute_reply": "2024-01-29T15:03:47.214181Z"
    },
    "papermill": {
     "duration": 0.046485,
     "end_time": "2024-01-29T15:03:47.218409",
     "exception": false,
     "start_time": "2024-01-29T15:03:47.171924",
     "status": "completed"
    },
    "tags": []
   },
   "outputs": [],
   "source": [
    "dataset['UserID0']=dataset.UserID.apply(lambda x: x.split('_')[0])\n",
    "dataset['UserID1']=dataset.UserID.apply(lambda x: x.split('_')[1])"
   ]
  },
  {
   "cell_type": "code",
   "execution_count": 17,
   "id": "a36cc105",
   "metadata": {
    "execution": {
     "iopub.execute_input": "2024-01-29T15:03:47.249858Z",
     "iopub.status.busy": "2024-01-29T15:03:47.249411Z",
     "iopub.status.idle": "2024-01-29T15:03:47.275361Z",
     "shell.execute_reply": "2024-01-29T15:03:47.274033Z"
    },
    "papermill": {
     "duration": 0.044995,
     "end_time": "2024-01-29T15:03:47.278094",
     "exception": false,
     "start_time": "2024-01-29T15:03:47.233099",
     "status": "completed"
    },
    "tags": []
   },
   "outputs": [],
   "source": [
    "dataset['UserID0_len']=dataset.UserID0.apply(lambda x: len(x))\n",
    "dataset['UserID1_len']=dataset.UserID1.apply(lambda x: len(x))"
   ]
  },
  {
   "cell_type": "code",
   "execution_count": 18,
   "id": "779074d9",
   "metadata": {
    "execution": {
     "iopub.execute_input": "2024-01-29T15:03:47.311245Z",
     "iopub.status.busy": "2024-01-29T15:03:47.310143Z",
     "iopub.status.idle": "2024-01-29T15:03:47.333288Z",
     "shell.execute_reply": "2024-01-29T15:03:47.332412Z"
    },
    "papermill": {
     "duration": 0.042738,
     "end_time": "2024-01-29T15:03:47.335626",
     "exception": false,
     "start_time": "2024-01-29T15:03:47.292888",
     "status": "completed"
    },
    "tags": []
   },
   "outputs": [
    {
     "data": {
      "text/html": [
       "<div>\n",
       "<style scoped>\n",
       "    .dataframe tbody tr th:only-of-type {\n",
       "        vertical-align: middle;\n",
       "    }\n",
       "\n",
       "    .dataframe tbody tr th {\n",
       "        vertical-align: top;\n",
       "    }\n",
       "\n",
       "    .dataframe thead th {\n",
       "        text-align: right;\n",
       "    }\n",
       "</style>\n",
       "<table border=\"1\" class=\"dataframe\">\n",
       "  <thead>\n",
       "    <tr style=\"text-align: right;\">\n",
       "      <th></th>\n",
       "      <th>ID</th>\n",
       "      <th>RecipeNumber</th>\n",
       "      <th>RecipeCode</th>\n",
       "      <th>RecipeName</th>\n",
       "      <th>CommentID</th>\n",
       "      <th>UserID</th>\n",
       "      <th>UserName</th>\n",
       "      <th>UserReputation</th>\n",
       "      <th>CreationTimestamp</th>\n",
       "      <th>ReplyCount</th>\n",
       "      <th>...</th>\n",
       "      <th>Recipe_Review</th>\n",
       "      <th>CommentID0</th>\n",
       "      <th>CommentID1</th>\n",
       "      <th>CommentID2</th>\n",
       "      <th>CommentID3</th>\n",
       "      <th>CommentID4</th>\n",
       "      <th>UserID0</th>\n",
       "      <th>UserID1</th>\n",
       "      <th>UserID0_len</th>\n",
       "      <th>UserID1_len</th>\n",
       "    </tr>\n",
       "  </thead>\n",
       "  <tbody>\n",
       "    <tr>\n",
       "      <th>0</th>\n",
       "      <td>70</td>\n",
       "      <td>71</td>\n",
       "      <td>12259</td>\n",
       "      <td>Banana Bars with Cream Cheese Frosting</td>\n",
       "      <td>sp_aUSaElGf_12259_c_149978</td>\n",
       "      <td>u_1oKVaBmiEKwAFyiHrDLoWpbel0J</td>\n",
       "      <td>misscoffeepot</td>\n",
       "      <td>20</td>\n",
       "      <td>1622717078</td>\n",
       "      <td>0</td>\n",
       "      <td>...</td>\n",
       "      <td>great recipe! I have made them just as written...</td>\n",
       "      <td>sp</td>\n",
       "      <td>aUSaElGf</td>\n",
       "      <td>12259</td>\n",
       "      <td>c</td>\n",
       "      <td>149978</td>\n",
       "      <td>u</td>\n",
       "      <td>1oKVaBmiEKwAFyiHrDLoWpbel0J</td>\n",
       "      <td>1</td>\n",
       "      <td>27</td>\n",
       "    </tr>\n",
       "    <tr>\n",
       "      <th>1</th>\n",
       "      <td>72</td>\n",
       "      <td>88</td>\n",
       "      <td>8202</td>\n",
       "      <td>Simple Taco Soup</td>\n",
       "      <td>sp_aUSaElGf_8202_c_310332</td>\n",
       "      <td>u_1oKZeRIXYzGNhGW8OMR3O4lX1ih</td>\n",
       "      <td>MichelleMalone</td>\n",
       "      <td>1</td>\n",
       "      <td>1622717852</td>\n",
       "      <td>0</td>\n",
       "      <td>...</td>\n",
       "      <td>This is an easy and quick recipe that is great...</td>\n",
       "      <td>sp</td>\n",
       "      <td>aUSaElGf</td>\n",
       "      <td>8202</td>\n",
       "      <td>c</td>\n",
       "      <td>310332</td>\n",
       "      <td>u</td>\n",
       "      <td>1oKZeRIXYzGNhGW8OMR3O4lX1ih</td>\n",
       "      <td>1</td>\n",
       "      <td>27</td>\n",
       "    </tr>\n",
       "    <tr>\n",
       "      <th>2</th>\n",
       "      <td>458</td>\n",
       "      <td>3</td>\n",
       "      <td>2832</td>\n",
       "      <td>Cheeseburger Soup</td>\n",
       "      <td>sp_aUSaElGf_2832_c_206522</td>\n",
       "      <td>u_1oKYHUtdaD48KJCDYq5wfpAUxWz</td>\n",
       "      <td>jeannem32</td>\n",
       "      <td>1</td>\n",
       "      <td>1622717357</td>\n",
       "      <td>0</td>\n",
       "      <td>...</td>\n",
       "      <td>I think I was looking for something extra spec...</td>\n",
       "      <td>sp</td>\n",
       "      <td>aUSaElGf</td>\n",
       "      <td>2832</td>\n",
       "      <td>c</td>\n",
       "      <td>206522</td>\n",
       "      <td>u</td>\n",
       "      <td>1oKYHUtdaD48KJCDYq5wfpAUxWz</td>\n",
       "      <td>1</td>\n",
       "      <td>27</td>\n",
       "    </tr>\n",
       "    <tr>\n",
       "      <th>3</th>\n",
       "      <td>7</td>\n",
       "      <td>50</td>\n",
       "      <td>100276</td>\n",
       "      <td>Grilled Huli Huli Chicken</td>\n",
       "      <td>sp_aUSaElGf_100276_c_434088</td>\n",
       "      <td>u_1oKZCQcKQZdQhDVBS7oISc216VA</td>\n",
       "      <td>ds422</td>\n",
       "      <td>1</td>\n",
       "      <td>1622648899</td>\n",
       "      <td>0</td>\n",
       "      <td>...</td>\n",
       "      <td>This is our favorite grilled chicken recipe.  ...</td>\n",
       "      <td>sp</td>\n",
       "      <td>aUSaElGf</td>\n",
       "      <td>100276</td>\n",
       "      <td>c</td>\n",
       "      <td>434088</td>\n",
       "      <td>u</td>\n",
       "      <td>1oKZCQcKQZdQhDVBS7oISc216VA</td>\n",
       "      <td>1</td>\n",
       "      <td>27</td>\n",
       "    </tr>\n",
       "    <tr>\n",
       "      <th>4</th>\n",
       "      <td>60</td>\n",
       "      <td>12</td>\n",
       "      <td>19731</td>\n",
       "      <td>Cauliflower Soup</td>\n",
       "      <td>sp_aUSaElGf_19731_c_387011</td>\n",
       "      <td>u_1oKd4sudZQPgu6YALiC7bW7mKMs</td>\n",
       "      <td>SusanHoward</td>\n",
       "      <td>1</td>\n",
       "      <td>1622718260</td>\n",
       "      <td>0</td>\n",
       "      <td>...</td>\n",
       "      <td>Great basic recipe. I added 2 teaspoons Tuscan...</td>\n",
       "      <td>sp</td>\n",
       "      <td>aUSaElGf</td>\n",
       "      <td>19731</td>\n",
       "      <td>c</td>\n",
       "      <td>387011</td>\n",
       "      <td>u</td>\n",
       "      <td>1oKd4sudZQPgu6YALiC7bW7mKMs</td>\n",
       "      <td>1</td>\n",
       "      <td>27</td>\n",
       "    </tr>\n",
       "  </tbody>\n",
       "</table>\n",
       "<p>5 rows × 24 columns</p>\n",
       "</div>"
      ],
      "text/plain": [
       "    ID  RecipeNumber  RecipeCode                              RecipeName  \\\n",
       "0   70            71       12259  Banana Bars with Cream Cheese Frosting   \n",
       "1   72            88        8202                        Simple Taco Soup   \n",
       "2  458             3        2832                       Cheeseburger Soup   \n",
       "3    7            50      100276               Grilled Huli Huli Chicken   \n",
       "4   60            12       19731                        Cauliflower Soup   \n",
       "\n",
       "                     CommentID                         UserID        UserName  \\\n",
       "0   sp_aUSaElGf_12259_c_149978  u_1oKVaBmiEKwAFyiHrDLoWpbel0J   misscoffeepot   \n",
       "1    sp_aUSaElGf_8202_c_310332  u_1oKZeRIXYzGNhGW8OMR3O4lX1ih  MichelleMalone   \n",
       "2    sp_aUSaElGf_2832_c_206522  u_1oKYHUtdaD48KJCDYq5wfpAUxWz       jeannem32   \n",
       "3  sp_aUSaElGf_100276_c_434088  u_1oKZCQcKQZdQhDVBS7oISc216VA           ds422   \n",
       "4   sp_aUSaElGf_19731_c_387011  u_1oKd4sudZQPgu6YALiC7bW7mKMs     SusanHoward   \n",
       "\n",
       "   UserReputation  CreationTimestamp  ReplyCount  ...  \\\n",
       "0              20         1622717078           0  ...   \n",
       "1               1         1622717852           0  ...   \n",
       "2               1         1622717357           0  ...   \n",
       "3               1         1622648899           0  ...   \n",
       "4               1         1622718260           0  ...   \n",
       "\n",
       "                                       Recipe_Review  CommentID0  CommentID1  \\\n",
       "0  great recipe! I have made them just as written...          sp    aUSaElGf   \n",
       "1  This is an easy and quick recipe that is great...          sp    aUSaElGf   \n",
       "2  I think I was looking for something extra spec...          sp    aUSaElGf   \n",
       "3  This is our favorite grilled chicken recipe.  ...          sp    aUSaElGf   \n",
       "4  Great basic recipe. I added 2 teaspoons Tuscan...          sp    aUSaElGf   \n",
       "\n",
       "   CommentID2 CommentID3 CommentID4 UserID0                      UserID1  \\\n",
       "0       12259          c     149978       u  1oKVaBmiEKwAFyiHrDLoWpbel0J   \n",
       "1        8202          c     310332       u  1oKZeRIXYzGNhGW8OMR3O4lX1ih   \n",
       "2        2832          c     206522       u  1oKYHUtdaD48KJCDYq5wfpAUxWz   \n",
       "3      100276          c     434088       u  1oKZCQcKQZdQhDVBS7oISc216VA   \n",
       "4       19731          c     387011       u  1oKd4sudZQPgu6YALiC7bW7mKMs   \n",
       "\n",
       "  UserID0_len UserID1_len  \n",
       "0           1          27  \n",
       "1           1          27  \n",
       "2           1          27  \n",
       "3           1          27  \n",
       "4           1          27  \n",
       "\n",
       "[5 rows x 24 columns]"
      ]
     },
     "execution_count": 18,
     "metadata": {},
     "output_type": "execute_result"
    }
   ],
   "source": [
    "dataset.head()"
   ]
  },
  {
   "cell_type": "code",
   "execution_count": 19,
   "id": "ecd63e0a",
   "metadata": {
    "execution": {
     "iopub.execute_input": "2024-01-29T15:03:47.367964Z",
     "iopub.status.busy": "2024-01-29T15:03:47.367497Z",
     "iopub.status.idle": "2024-01-29T15:03:47.377920Z",
     "shell.execute_reply": "2024-01-29T15:03:47.376541Z"
    },
    "papermill": {
     "duration": 0.029492,
     "end_time": "2024-01-29T15:03:47.380455",
     "exception": false,
     "start_time": "2024-01-29T15:03:47.350963",
     "status": "completed"
    },
    "tags": []
   },
   "outputs": [
    {
     "data": {
      "text/plain": [
       "(13586,)"
      ]
     },
     "execution_count": 19,
     "metadata": {},
     "output_type": "execute_result"
    }
   ],
   "source": [
    "dataset.UserName.unique().shape"
   ]
  },
  {
   "cell_type": "code",
   "execution_count": 20,
   "id": "f886edba",
   "metadata": {
    "execution": {
     "iopub.execute_input": "2024-01-29T15:03:47.413709Z",
     "iopub.status.busy": "2024-01-29T15:03:47.412552Z",
     "iopub.status.idle": "2024-01-29T15:03:47.421223Z",
     "shell.execute_reply": "2024-01-29T15:03:47.419891Z"
    },
    "papermill": {
     "duration": 0.028035,
     "end_time": "2024-01-29T15:03:47.423725",
     "exception": false,
     "start_time": "2024-01-29T15:03:47.395690",
     "status": "completed"
    },
    "tags": []
   },
   "outputs": [
    {
     "data": {
      "text/plain": [
       "array([ 20,   1,  10,  80,  30,   0,  60,  90, 160,  40, 510, 100,  50,\n",
       "       140,  70, 220, 110, 130, 150, 300, 170, 520], dtype=int64)"
      ]
     },
     "execution_count": 20,
     "metadata": {},
     "output_type": "execute_result"
    }
   ],
   "source": [
    "dataset.UserReputation.unique()"
   ]
  },
  {
   "cell_type": "code",
   "execution_count": 21,
   "id": "871a86af",
   "metadata": {
    "execution": {
     "iopub.execute_input": "2024-01-29T15:03:47.459143Z",
     "iopub.status.busy": "2024-01-29T15:03:47.458577Z",
     "iopub.status.idle": "2024-01-29T15:03:47.482821Z",
     "shell.execute_reply": "2024-01-29T15:03:47.481478Z"
    },
    "papermill": {
     "duration": 0.045424,
     "end_time": "2024-01-29T15:03:47.485589",
     "exception": false,
     "start_time": "2024-01-29T15:03:47.440165",
     "status": "completed"
    },
    "tags": []
   },
   "outputs": [],
   "source": [
    "dataset['Recipe_Review']=dataset.Recipe_Review.apply(lambda x : 'n' if pd.isna(x) else x)"
   ]
  },
  {
   "cell_type": "code",
   "execution_count": 22,
   "id": "23b7d910",
   "metadata": {
    "execution": {
     "iopub.execute_input": "2024-01-29T15:03:47.519130Z",
     "iopub.status.busy": "2024-01-29T15:03:47.518689Z",
     "iopub.status.idle": "2024-01-29T15:03:47.581324Z",
     "shell.execute_reply": "2024-01-29T15:03:47.579909Z"
    },
    "papermill": {
     "duration": 0.082296,
     "end_time": "2024-01-29T15:03:47.583999",
     "exception": false,
     "start_time": "2024-01-29T15:03:47.501703",
     "status": "completed"
    },
    "tags": []
   },
   "outputs": [
    {
     "data": {
      "text/html": [
       "<div>\n",
       "<style scoped>\n",
       "    .dataframe tbody tr th:only-of-type {\n",
       "        vertical-align: middle;\n",
       "    }\n",
       "\n",
       "    .dataframe tbody tr th {\n",
       "        vertical-align: top;\n",
       "    }\n",
       "\n",
       "    .dataframe thead th {\n",
       "        text-align: right;\n",
       "    }\n",
       "</style>\n",
       "<table border=\"1\" class=\"dataframe\">\n",
       "  <thead>\n",
       "    <tr style=\"text-align: right;\">\n",
       "      <th></th>\n",
       "      <th>ID</th>\n",
       "      <th>RecipeNumber</th>\n",
       "      <th>RecipeCode</th>\n",
       "      <th>UserReputation</th>\n",
       "      <th>CreationTimestamp</th>\n",
       "      <th>ReplyCount</th>\n",
       "      <th>ThumbsUpCount</th>\n",
       "      <th>ThumbsDownCount</th>\n",
       "      <th>Rating</th>\n",
       "      <th>BestScore</th>\n",
       "      <th>UserID0_len</th>\n",
       "      <th>UserID1_len</th>\n",
       "    </tr>\n",
       "  </thead>\n",
       "  <tbody>\n",
       "    <tr>\n",
       "      <th>count</th>\n",
       "      <td>18182.000000</td>\n",
       "      <td>18182.000000</td>\n",
       "      <td>18182.000000</td>\n",
       "      <td>18182.000000</td>\n",
       "      <td>1.818200e+04</td>\n",
       "      <td>18182.000000</td>\n",
       "      <td>18182.000000</td>\n",
       "      <td>18182.000000</td>\n",
       "      <td>13636.000000</td>\n",
       "      <td>18182.000000</td>\n",
       "      <td>18182.0</td>\n",
       "      <td>18182.000000</td>\n",
       "    </tr>\n",
       "    <tr>\n",
       "      <th>mean</th>\n",
       "      <td>121.465295</td>\n",
       "      <td>38.689363</td>\n",
       "      <td>21773.667253</td>\n",
       "      <td>2.159608</td>\n",
       "      <td>1.623710e+09</td>\n",
       "      <td>0.014630</td>\n",
       "      <td>1.089264</td>\n",
       "      <td>0.549335</td>\n",
       "      <td>4.288721</td>\n",
       "      <td>153.162138</td>\n",
       "      <td>1.0</td>\n",
       "      <td>26.222858</td>\n",
       "    </tr>\n",
       "    <tr>\n",
       "      <th>std</th>\n",
       "      <td>116.747893</td>\n",
       "      <td>29.786647</td>\n",
       "      <td>23965.109637</td>\n",
       "      <td>10.014666</td>\n",
       "      <td>5.468697e+06</td>\n",
       "      <td>0.137974</td>\n",
       "      <td>4.201004</td>\n",
       "      <td>3.470124</td>\n",
       "      <td>1.544839</td>\n",
       "      <td>141.075316</td>\n",
       "      <td>0.0</td>\n",
       "      <td>3.324724</td>\n",
       "    </tr>\n",
       "    <tr>\n",
       "      <th>min</th>\n",
       "      <td>0.000000</td>\n",
       "      <td>1.000000</td>\n",
       "      <td>386.000000</td>\n",
       "      <td>0.000000</td>\n",
       "      <td>1.613035e+09</td>\n",
       "      <td>0.000000</td>\n",
       "      <td>0.000000</td>\n",
       "      <td>0.000000</td>\n",
       "      <td>0.000000</td>\n",
       "      <td>0.000000</td>\n",
       "      <td>1.0</td>\n",
       "      <td>12.000000</td>\n",
       "    </tr>\n",
       "    <tr>\n",
       "      <th>25%</th>\n",
       "      <td>45.000000</td>\n",
       "      <td>12.000000</td>\n",
       "      <td>6086.000000</td>\n",
       "      <td>1.000000</td>\n",
       "      <td>1.622717e+09</td>\n",
       "      <td>0.000000</td>\n",
       "      <td>0.000000</td>\n",
       "      <td>0.000000</td>\n",
       "      <td>5.000000</td>\n",
       "      <td>100.000000</td>\n",
       "      <td>1.0</td>\n",
       "      <td>27.000000</td>\n",
       "    </tr>\n",
       "    <tr>\n",
       "      <th>50%</th>\n",
       "      <td>91.000000</td>\n",
       "      <td>33.000000</td>\n",
       "      <td>14600.000000</td>\n",
       "      <td>1.000000</td>\n",
       "      <td>1.622718e+09</td>\n",
       "      <td>0.000000</td>\n",
       "      <td>0.000000</td>\n",
       "      <td>0.000000</td>\n",
       "      <td>5.000000</td>\n",
       "      <td>100.000000</td>\n",
       "      <td>1.0</td>\n",
       "      <td>27.000000</td>\n",
       "    </tr>\n",
       "    <tr>\n",
       "      <th>75%</th>\n",
       "      <td>150.000000</td>\n",
       "      <td>64.000000</td>\n",
       "      <td>33121.000000</td>\n",
       "      <td>1.000000</td>\n",
       "      <td>1.622718e+09</td>\n",
       "      <td>0.000000</td>\n",
       "      <td>0.000000</td>\n",
       "      <td>0.000000</td>\n",
       "      <td>5.000000</td>\n",
       "      <td>100.000000</td>\n",
       "      <td>1.0</td>\n",
       "      <td>27.000000</td>\n",
       "    </tr>\n",
       "    <tr>\n",
       "      <th>max</th>\n",
       "      <td>724.000000</td>\n",
       "      <td>100.000000</td>\n",
       "      <td>191775.000000</td>\n",
       "      <td>520.000000</td>\n",
       "      <td>1.665756e+09</td>\n",
       "      <td>3.000000</td>\n",
       "      <td>106.000000</td>\n",
       "      <td>126.000000</td>\n",
       "      <td>5.000000</td>\n",
       "      <td>946.000000</td>\n",
       "      <td>1.0</td>\n",
       "      <td>27.000000</td>\n",
       "    </tr>\n",
       "  </tbody>\n",
       "</table>\n",
       "</div>"
      ],
      "text/plain": [
       "                 ID  RecipeNumber     RecipeCode  UserReputation  \\\n",
       "count  18182.000000  18182.000000   18182.000000    18182.000000   \n",
       "mean     121.465295     38.689363   21773.667253        2.159608   \n",
       "std      116.747893     29.786647   23965.109637       10.014666   \n",
       "min        0.000000      1.000000     386.000000        0.000000   \n",
       "25%       45.000000     12.000000    6086.000000        1.000000   \n",
       "50%       91.000000     33.000000   14600.000000        1.000000   \n",
       "75%      150.000000     64.000000   33121.000000        1.000000   \n",
       "max      724.000000    100.000000  191775.000000      520.000000   \n",
       "\n",
       "       CreationTimestamp    ReplyCount  ThumbsUpCount  ThumbsDownCount  \\\n",
       "count       1.818200e+04  18182.000000   18182.000000     18182.000000   \n",
       "mean        1.623710e+09      0.014630       1.089264         0.549335   \n",
       "std         5.468697e+06      0.137974       4.201004         3.470124   \n",
       "min         1.613035e+09      0.000000       0.000000         0.000000   \n",
       "25%         1.622717e+09      0.000000       0.000000         0.000000   \n",
       "50%         1.622718e+09      0.000000       0.000000         0.000000   \n",
       "75%         1.622718e+09      0.000000       0.000000         0.000000   \n",
       "max         1.665756e+09      3.000000     106.000000       126.000000   \n",
       "\n",
       "             Rating     BestScore  UserID0_len   UserID1_len  \n",
       "count  13636.000000  18182.000000      18182.0  18182.000000  \n",
       "mean       4.288721    153.162138          1.0     26.222858  \n",
       "std        1.544839    141.075316          0.0      3.324724  \n",
       "min        0.000000      0.000000          1.0     12.000000  \n",
       "25%        5.000000    100.000000          1.0     27.000000  \n",
       "50%        5.000000    100.000000          1.0     27.000000  \n",
       "75%        5.000000    100.000000          1.0     27.000000  \n",
       "max        5.000000    946.000000          1.0     27.000000  "
      ]
     },
     "execution_count": 22,
     "metadata": {},
     "output_type": "execute_result"
    }
   ],
   "source": [
    "dataset.describe()"
   ]
  },
  {
   "cell_type": "code",
   "execution_count": 23,
   "id": "6d0c20ac",
   "metadata": {
    "execution": {
     "iopub.execute_input": "2024-01-29T15:03:47.617429Z",
     "iopub.status.busy": "2024-01-29T15:03:47.617009Z",
     "iopub.status.idle": "2024-01-29T15:03:47.657602Z",
     "shell.execute_reply": "2024-01-29T15:03:47.655650Z"
    },
    "papermill": {
     "duration": 0.060608,
     "end_time": "2024-01-29T15:03:47.660369",
     "exception": false,
     "start_time": "2024-01-29T15:03:47.599761",
     "status": "completed"
    },
    "tags": []
   },
   "outputs": [
    {
     "name": "stdout",
     "output_type": "stream",
     "text": [
      "<class 'pandas.core.frame.DataFrame'>\n",
      "Index: 18182 entries, 0 to 4545\n",
      "Data columns (total 24 columns):\n",
      " #   Column             Non-Null Count  Dtype  \n",
      "---  ------             --------------  -----  \n",
      " 0   ID                 18182 non-null  int64  \n",
      " 1   RecipeNumber       18182 non-null  int64  \n",
      " 2   RecipeCode         18182 non-null  int64  \n",
      " 3   RecipeName         18182 non-null  object \n",
      " 4   CommentID          18182 non-null  object \n",
      " 5   UserID             18182 non-null  object \n",
      " 6   UserName           18182 non-null  object \n",
      " 7   UserReputation     18182 non-null  int64  \n",
      " 8   CreationTimestamp  18182 non-null  int64  \n",
      " 9   ReplyCount         18182 non-null  int64  \n",
      " 10  ThumbsUpCount      18182 non-null  int64  \n",
      " 11  ThumbsDownCount    18182 non-null  int64  \n",
      " 12  Rating             13636 non-null  float64\n",
      " 13  BestScore          18182 non-null  int64  \n",
      " 14  Recipe_Review      18182 non-null  object \n",
      " 15  CommentID0         18182 non-null  object \n",
      " 16  CommentID1         18182 non-null  object \n",
      " 17  CommentID2         18182 non-null  object \n",
      " 18  CommentID3         18182 non-null  object \n",
      " 19  CommentID4         18182 non-null  object \n",
      " 20  UserID0            18182 non-null  object \n",
      " 21  UserID1            18182 non-null  object \n",
      " 22  UserID0_len        18182 non-null  int64  \n",
      " 23  UserID1_len        18182 non-null  int64  \n",
      "dtypes: float64(1), int64(11), object(12)\n",
      "memory usage: 3.5+ MB\n"
     ]
    }
   ],
   "source": [
    "dataset.info()"
   ]
  },
  {
   "cell_type": "code",
   "execution_count": 24,
   "id": "bf8afb4c",
   "metadata": {
    "execution": {
     "iopub.execute_input": "2024-01-29T15:03:47.693818Z",
     "iopub.status.busy": "2024-01-29T15:03:47.693363Z",
     "iopub.status.idle": "2024-01-29T15:03:47.719085Z",
     "shell.execute_reply": "2024-01-29T15:03:47.717591Z"
    },
    "papermill": {
     "duration": 0.045673,
     "end_time": "2024-01-29T15:03:47.721921",
     "exception": false,
     "start_time": "2024-01-29T15:03:47.676248",
     "status": "completed"
    },
    "tags": []
   },
   "outputs": [
    {
     "data": {
      "text/plain": [
       "ID                      0\n",
       "RecipeNumber            0\n",
       "RecipeCode              0\n",
       "RecipeName              0\n",
       "CommentID               0\n",
       "UserID                  0\n",
       "UserName                0\n",
       "UserReputation          0\n",
       "CreationTimestamp       0\n",
       "ReplyCount              0\n",
       "ThumbsUpCount           0\n",
       "ThumbsDownCount         0\n",
       "Rating               4546\n",
       "BestScore               0\n",
       "Recipe_Review           0\n",
       "CommentID0              0\n",
       "CommentID1              0\n",
       "CommentID2              0\n",
       "CommentID3              0\n",
       "CommentID4              0\n",
       "UserID0                 0\n",
       "UserID1                 0\n",
       "UserID0_len             0\n",
       "UserID1_len             0\n",
       "dtype: int64"
      ]
     },
     "execution_count": 24,
     "metadata": {},
     "output_type": "execute_result"
    }
   ],
   "source": [
    "dataset.isna().sum()"
   ]
  },
  {
   "cell_type": "code",
   "execution_count": 25,
   "id": "072b1390",
   "metadata": {
    "execution": {
     "iopub.execute_input": "2024-01-29T15:03:47.756469Z",
     "iopub.status.busy": "2024-01-29T15:03:47.756066Z",
     "iopub.status.idle": "2024-01-29T15:03:47.818590Z",
     "shell.execute_reply": "2024-01-29T15:03:47.817473Z"
    },
    "papermill": {
     "duration": 0.083143,
     "end_time": "2024-01-29T15:03:47.821353",
     "exception": false,
     "start_time": "2024-01-29T15:03:47.738210",
     "status": "completed"
    },
    "tags": []
   },
   "outputs": [
    {
     "data": {
      "text/plain": [
       "ID                     725\n",
       "RecipeNumber           100\n",
       "RecipeCode             100\n",
       "RecipeName             100\n",
       "CommentID            18182\n",
       "UserID               13812\n",
       "UserName             13586\n",
       "UserReputation          22\n",
       "CreationTimestamp     2695\n",
       "ReplyCount               4\n",
       "ThumbsUpCount           62\n",
       "ThumbsDownCount         58\n",
       "Rating                   6\n",
       "BestScore              588\n",
       "Recipe_Review        17732\n",
       "CommentID0               1\n",
       "CommentID1               1\n",
       "CommentID2             100\n",
       "CommentID3               1\n",
       "CommentID4           18182\n",
       "UserID0                  1\n",
       "UserID1              13812\n",
       "UserID0_len              1\n",
       "UserID1_len              2\n",
       "dtype: int64"
      ]
     },
     "execution_count": 25,
     "metadata": {},
     "output_type": "execute_result"
    }
   ],
   "source": [
    "dataset.nunique()"
   ]
  },
  {
   "cell_type": "code",
   "execution_count": 26,
   "id": "3abf96d7",
   "metadata": {
    "execution": {
     "iopub.execute_input": "2024-01-29T15:03:47.856133Z",
     "iopub.status.busy": "2024-01-29T15:03:47.855648Z",
     "iopub.status.idle": "2024-01-29T15:03:47.883132Z",
     "shell.execute_reply": "2024-01-29T15:03:47.881430Z"
    },
    "papermill": {
     "duration": 0.048727,
     "end_time": "2024-01-29T15:03:47.886199",
     "exception": false,
     "start_time": "2024-01-29T15:03:47.837472",
     "status": "completed"
    },
    "tags": []
   },
   "outputs": [],
   "source": [
    "dataset_copy=dataset.copy()"
   ]
  },
  {
   "cell_type": "code",
   "execution_count": 27,
   "id": "930f7083",
   "metadata": {
    "execution": {
     "iopub.execute_input": "2024-01-29T15:03:47.921972Z",
     "iopub.status.busy": "2024-01-29T15:03:47.920647Z",
     "iopub.status.idle": "2024-01-29T15:03:47.934012Z",
     "shell.execute_reply": "2024-01-29T15:03:47.932578Z"
    },
    "papermill": {
     "duration": 0.034365,
     "end_time": "2024-01-29T15:03:47.936941",
     "exception": false,
     "start_time": "2024-01-29T15:03:47.902576",
     "status": "completed"
    },
    "tags": []
   },
   "outputs": [],
   "source": [
    "# drop all columns in which  only 1 unique value is present  or nessesary information is not present there\n",
    "dataset_copy=dataset_copy.drop(['CommentID','UserID','CommentID0','CommentID1','CommentID3','CommentID4','UserID0','UserID0_len','UserID1_len'],axis=1)"
   ]
  },
  {
   "cell_type": "code",
   "execution_count": 28,
   "id": "4a18edc8",
   "metadata": {
    "execution": {
     "iopub.execute_input": "2024-01-29T15:03:47.972649Z",
     "iopub.status.busy": "2024-01-29T15:03:47.972236Z",
     "iopub.status.idle": "2024-01-29T15:03:47.991010Z",
     "shell.execute_reply": "2024-01-29T15:03:47.989762Z"
    },
    "papermill": {
     "duration": 0.040185,
     "end_time": "2024-01-29T15:03:47.993704",
     "exception": false,
     "start_time": "2024-01-29T15:03:47.953519",
     "status": "completed"
    },
    "tags": []
   },
   "outputs": [
    {
     "data": {
      "text/html": [
       "<div>\n",
       "<style scoped>\n",
       "    .dataframe tbody tr th:only-of-type {\n",
       "        vertical-align: middle;\n",
       "    }\n",
       "\n",
       "    .dataframe tbody tr th {\n",
       "        vertical-align: top;\n",
       "    }\n",
       "\n",
       "    .dataframe thead th {\n",
       "        text-align: right;\n",
       "    }\n",
       "</style>\n",
       "<table border=\"1\" class=\"dataframe\">\n",
       "  <thead>\n",
       "    <tr style=\"text-align: right;\">\n",
       "      <th></th>\n",
       "      <th>ID</th>\n",
       "      <th>RecipeNumber</th>\n",
       "      <th>RecipeCode</th>\n",
       "      <th>RecipeName</th>\n",
       "      <th>UserName</th>\n",
       "      <th>UserReputation</th>\n",
       "      <th>CreationTimestamp</th>\n",
       "      <th>ReplyCount</th>\n",
       "      <th>ThumbsUpCount</th>\n",
       "      <th>ThumbsDownCount</th>\n",
       "      <th>Rating</th>\n",
       "      <th>BestScore</th>\n",
       "      <th>Recipe_Review</th>\n",
       "      <th>CommentID2</th>\n",
       "      <th>UserID1</th>\n",
       "    </tr>\n",
       "  </thead>\n",
       "  <tbody>\n",
       "    <tr>\n",
       "      <th>0</th>\n",
       "      <td>70</td>\n",
       "      <td>71</td>\n",
       "      <td>12259</td>\n",
       "      <td>Banana Bars with Cream Cheese Frosting</td>\n",
       "      <td>misscoffeepot</td>\n",
       "      <td>20</td>\n",
       "      <td>1622717078</td>\n",
       "      <td>0</td>\n",
       "      <td>0</td>\n",
       "      <td>0</td>\n",
       "      <td>5.0</td>\n",
       "      <td>100</td>\n",
       "      <td>great recipe! I have made them just as written...</td>\n",
       "      <td>12259</td>\n",
       "      <td>1oKVaBmiEKwAFyiHrDLoWpbel0J</td>\n",
       "    </tr>\n",
       "    <tr>\n",
       "      <th>1</th>\n",
       "      <td>72</td>\n",
       "      <td>88</td>\n",
       "      <td>8202</td>\n",
       "      <td>Simple Taco Soup</td>\n",
       "      <td>MichelleMalone</td>\n",
       "      <td>1</td>\n",
       "      <td>1622717852</td>\n",
       "      <td>0</td>\n",
       "      <td>0</td>\n",
       "      <td>1</td>\n",
       "      <td>5.0</td>\n",
       "      <td>100</td>\n",
       "      <td>This is an easy and quick recipe that is great...</td>\n",
       "      <td>8202</td>\n",
       "      <td>1oKZeRIXYzGNhGW8OMR3O4lX1ih</td>\n",
       "    </tr>\n",
       "    <tr>\n",
       "      <th>2</th>\n",
       "      <td>458</td>\n",
       "      <td>3</td>\n",
       "      <td>2832</td>\n",
       "      <td>Cheeseburger Soup</td>\n",
       "      <td>jeannem32</td>\n",
       "      <td>1</td>\n",
       "      <td>1622717357</td>\n",
       "      <td>0</td>\n",
       "      <td>0</td>\n",
       "      <td>0</td>\n",
       "      <td>3.0</td>\n",
       "      <td>100</td>\n",
       "      <td>I think I was looking for something extra spec...</td>\n",
       "      <td>2832</td>\n",
       "      <td>1oKYHUtdaD48KJCDYq5wfpAUxWz</td>\n",
       "    </tr>\n",
       "    <tr>\n",
       "      <th>3</th>\n",
       "      <td>7</td>\n",
       "      <td>50</td>\n",
       "      <td>100276</td>\n",
       "      <td>Grilled Huli Huli Chicken</td>\n",
       "      <td>ds422</td>\n",
       "      <td>1</td>\n",
       "      <td>1622648899</td>\n",
       "      <td>0</td>\n",
       "      <td>0</td>\n",
       "      <td>0</td>\n",
       "      <td>5.0</td>\n",
       "      <td>100</td>\n",
       "      <td>This is our favorite grilled chicken recipe.  ...</td>\n",
       "      <td>100276</td>\n",
       "      <td>1oKZCQcKQZdQhDVBS7oISc216VA</td>\n",
       "    </tr>\n",
       "    <tr>\n",
       "      <th>4</th>\n",
       "      <td>60</td>\n",
       "      <td>12</td>\n",
       "      <td>19731</td>\n",
       "      <td>Cauliflower Soup</td>\n",
       "      <td>SusanHoward</td>\n",
       "      <td>1</td>\n",
       "      <td>1622718260</td>\n",
       "      <td>0</td>\n",
       "      <td>0</td>\n",
       "      <td>0</td>\n",
       "      <td>4.0</td>\n",
       "      <td>100</td>\n",
       "      <td>Great basic recipe. I added 2 teaspoons Tuscan...</td>\n",
       "      <td>19731</td>\n",
       "      <td>1oKd4sudZQPgu6YALiC7bW7mKMs</td>\n",
       "    </tr>\n",
       "  </tbody>\n",
       "</table>\n",
       "</div>"
      ],
      "text/plain": [
       "    ID  RecipeNumber  RecipeCode                              RecipeName  \\\n",
       "0   70            71       12259  Banana Bars with Cream Cheese Frosting   \n",
       "1   72            88        8202                        Simple Taco Soup   \n",
       "2  458             3        2832                       Cheeseburger Soup   \n",
       "3    7            50      100276               Grilled Huli Huli Chicken   \n",
       "4   60            12       19731                        Cauliflower Soup   \n",
       "\n",
       "         UserName  UserReputation  CreationTimestamp  ReplyCount  \\\n",
       "0   misscoffeepot              20         1622717078           0   \n",
       "1  MichelleMalone               1         1622717852           0   \n",
       "2       jeannem32               1         1622717357           0   \n",
       "3           ds422               1         1622648899           0   \n",
       "4     SusanHoward               1         1622718260           0   \n",
       "\n",
       "   ThumbsUpCount  ThumbsDownCount  Rating  BestScore  \\\n",
       "0              0                0     5.0        100   \n",
       "1              0                1     5.0        100   \n",
       "2              0                0     3.0        100   \n",
       "3              0                0     5.0        100   \n",
       "4              0                0     4.0        100   \n",
       "\n",
       "                                       Recipe_Review CommentID2  \\\n",
       "0  great recipe! I have made them just as written...      12259   \n",
       "1  This is an easy and quick recipe that is great...       8202   \n",
       "2  I think I was looking for something extra spec...       2832   \n",
       "3  This is our favorite grilled chicken recipe.  ...     100276   \n",
       "4  Great basic recipe. I added 2 teaspoons Tuscan...      19731   \n",
       "\n",
       "                       UserID1  \n",
       "0  1oKVaBmiEKwAFyiHrDLoWpbel0J  \n",
       "1  1oKZeRIXYzGNhGW8OMR3O4lX1ih  \n",
       "2  1oKYHUtdaD48KJCDYq5wfpAUxWz  \n",
       "3  1oKZCQcKQZdQhDVBS7oISc216VA  \n",
       "4  1oKd4sudZQPgu6YALiC7bW7mKMs  "
      ]
     },
     "execution_count": 28,
     "metadata": {},
     "output_type": "execute_result"
    }
   ],
   "source": [
    "dataset_copy.head()"
   ]
  },
  {
   "cell_type": "code",
   "execution_count": 29,
   "id": "737c089f",
   "metadata": {
    "execution": {
     "iopub.execute_input": "2024-01-29T15:03:48.030169Z",
     "iopub.status.busy": "2024-01-29T15:03:48.029747Z",
     "iopub.status.idle": "2024-01-29T15:03:48.039098Z",
     "shell.execute_reply": "2024-01-29T15:03:48.037568Z"
    },
    "papermill": {
     "duration": 0.031607,
     "end_time": "2024-01-29T15:03:48.042198",
     "exception": false,
     "start_time": "2024-01-29T15:03:48.010591",
     "status": "completed"
    },
    "tags": []
   },
   "outputs": [],
   "source": [
    "\n",
    "dataset_copy['CommentID2']=dataset_copy.CommentID2.astype(np.int64)"
   ]
  },
  {
   "cell_type": "code",
   "execution_count": 30,
   "id": "e06b4186",
   "metadata": {
    "execution": {
     "iopub.execute_input": "2024-01-29T15:03:48.079442Z",
     "iopub.status.busy": "2024-01-29T15:03:48.078992Z",
     "iopub.status.idle": "2024-01-29T15:03:48.097577Z",
     "shell.execute_reply": "2024-01-29T15:03:48.096757Z"
    },
    "papermill": {
     "duration": 0.040119,
     "end_time": "2024-01-29T15:03:48.100554",
     "exception": false,
     "start_time": "2024-01-29T15:03:48.060435",
     "status": "completed"
    },
    "tags": []
   },
   "outputs": [
    {
     "data": {
      "text/html": [
       "<div>\n",
       "<style scoped>\n",
       "    .dataframe tbody tr th:only-of-type {\n",
       "        vertical-align: middle;\n",
       "    }\n",
       "\n",
       "    .dataframe tbody tr th {\n",
       "        vertical-align: top;\n",
       "    }\n",
       "\n",
       "    .dataframe thead th {\n",
       "        text-align: right;\n",
       "    }\n",
       "</style>\n",
       "<table border=\"1\" class=\"dataframe\">\n",
       "  <thead>\n",
       "    <tr style=\"text-align: right;\">\n",
       "      <th></th>\n",
       "      <th>ID</th>\n",
       "      <th>RecipeNumber</th>\n",
       "      <th>RecipeCode</th>\n",
       "      <th>RecipeName</th>\n",
       "      <th>UserName</th>\n",
       "      <th>UserReputation</th>\n",
       "      <th>CreationTimestamp</th>\n",
       "      <th>ReplyCount</th>\n",
       "      <th>ThumbsUpCount</th>\n",
       "      <th>ThumbsDownCount</th>\n",
       "      <th>Rating</th>\n",
       "      <th>BestScore</th>\n",
       "      <th>Recipe_Review</th>\n",
       "      <th>CommentID2</th>\n",
       "      <th>UserID1</th>\n",
       "    </tr>\n",
       "  </thead>\n",
       "  <tbody>\n",
       "    <tr>\n",
       "      <th>0</th>\n",
       "      <td>70</td>\n",
       "      <td>71</td>\n",
       "      <td>12259</td>\n",
       "      <td>Banana Bars with Cream Cheese Frosting</td>\n",
       "      <td>misscoffeepot</td>\n",
       "      <td>20</td>\n",
       "      <td>1622717078</td>\n",
       "      <td>0</td>\n",
       "      <td>0</td>\n",
       "      <td>0</td>\n",
       "      <td>5.0</td>\n",
       "      <td>100</td>\n",
       "      <td>great recipe! I have made them just as written...</td>\n",
       "      <td>12259</td>\n",
       "      <td>1oKVaBmiEKwAFyiHrDLoWpbel0J</td>\n",
       "    </tr>\n",
       "    <tr>\n",
       "      <th>1</th>\n",
       "      <td>72</td>\n",
       "      <td>88</td>\n",
       "      <td>8202</td>\n",
       "      <td>Simple Taco Soup</td>\n",
       "      <td>MichelleMalone</td>\n",
       "      <td>1</td>\n",
       "      <td>1622717852</td>\n",
       "      <td>0</td>\n",
       "      <td>0</td>\n",
       "      <td>1</td>\n",
       "      <td>5.0</td>\n",
       "      <td>100</td>\n",
       "      <td>This is an easy and quick recipe that is great...</td>\n",
       "      <td>8202</td>\n",
       "      <td>1oKZeRIXYzGNhGW8OMR3O4lX1ih</td>\n",
       "    </tr>\n",
       "    <tr>\n",
       "      <th>2</th>\n",
       "      <td>458</td>\n",
       "      <td>3</td>\n",
       "      <td>2832</td>\n",
       "      <td>Cheeseburger Soup</td>\n",
       "      <td>jeannem32</td>\n",
       "      <td>1</td>\n",
       "      <td>1622717357</td>\n",
       "      <td>0</td>\n",
       "      <td>0</td>\n",
       "      <td>0</td>\n",
       "      <td>3.0</td>\n",
       "      <td>100</td>\n",
       "      <td>I think I was looking for something extra spec...</td>\n",
       "      <td>2832</td>\n",
       "      <td>1oKYHUtdaD48KJCDYq5wfpAUxWz</td>\n",
       "    </tr>\n",
       "    <tr>\n",
       "      <th>3</th>\n",
       "      <td>7</td>\n",
       "      <td>50</td>\n",
       "      <td>100276</td>\n",
       "      <td>Grilled Huli Huli Chicken</td>\n",
       "      <td>ds422</td>\n",
       "      <td>1</td>\n",
       "      <td>1622648899</td>\n",
       "      <td>0</td>\n",
       "      <td>0</td>\n",
       "      <td>0</td>\n",
       "      <td>5.0</td>\n",
       "      <td>100</td>\n",
       "      <td>This is our favorite grilled chicken recipe.  ...</td>\n",
       "      <td>100276</td>\n",
       "      <td>1oKZCQcKQZdQhDVBS7oISc216VA</td>\n",
       "    </tr>\n",
       "    <tr>\n",
       "      <th>4</th>\n",
       "      <td>60</td>\n",
       "      <td>12</td>\n",
       "      <td>19731</td>\n",
       "      <td>Cauliflower Soup</td>\n",
       "      <td>SusanHoward</td>\n",
       "      <td>1</td>\n",
       "      <td>1622718260</td>\n",
       "      <td>0</td>\n",
       "      <td>0</td>\n",
       "      <td>0</td>\n",
       "      <td>4.0</td>\n",
       "      <td>100</td>\n",
       "      <td>Great basic recipe. I added 2 teaspoons Tuscan...</td>\n",
       "      <td>19731</td>\n",
       "      <td>1oKd4sudZQPgu6YALiC7bW7mKMs</td>\n",
       "    </tr>\n",
       "  </tbody>\n",
       "</table>\n",
       "</div>"
      ],
      "text/plain": [
       "    ID  RecipeNumber  RecipeCode                              RecipeName  \\\n",
       "0   70            71       12259  Banana Bars with Cream Cheese Frosting   \n",
       "1   72            88        8202                        Simple Taco Soup   \n",
       "2  458             3        2832                       Cheeseburger Soup   \n",
       "3    7            50      100276               Grilled Huli Huli Chicken   \n",
       "4   60            12       19731                        Cauliflower Soup   \n",
       "\n",
       "         UserName  UserReputation  CreationTimestamp  ReplyCount  \\\n",
       "0   misscoffeepot              20         1622717078           0   \n",
       "1  MichelleMalone               1         1622717852           0   \n",
       "2       jeannem32               1         1622717357           0   \n",
       "3           ds422               1         1622648899           0   \n",
       "4     SusanHoward               1         1622718260           0   \n",
       "\n",
       "   ThumbsUpCount  ThumbsDownCount  Rating  BestScore  \\\n",
       "0              0                0     5.0        100   \n",
       "1              0                1     5.0        100   \n",
       "2              0                0     3.0        100   \n",
       "3              0                0     5.0        100   \n",
       "4              0                0     4.0        100   \n",
       "\n",
       "                                       Recipe_Review  CommentID2  \\\n",
       "0  great recipe! I have made them just as written...       12259   \n",
       "1  This is an easy and quick recipe that is great...        8202   \n",
       "2  I think I was looking for something extra spec...        2832   \n",
       "3  This is our favorite grilled chicken recipe.  ...      100276   \n",
       "4  Great basic recipe. I added 2 teaspoons Tuscan...       19731   \n",
       "\n",
       "                       UserID1  \n",
       "0  1oKVaBmiEKwAFyiHrDLoWpbel0J  \n",
       "1  1oKZeRIXYzGNhGW8OMR3O4lX1ih  \n",
       "2  1oKYHUtdaD48KJCDYq5wfpAUxWz  \n",
       "3  1oKZCQcKQZdQhDVBS7oISc216VA  \n",
       "4  1oKd4sudZQPgu6YALiC7bW7mKMs  "
      ]
     },
     "execution_count": 30,
     "metadata": {},
     "output_type": "execute_result"
    }
   ],
   "source": [
    "dataset_copy.head()"
   ]
  },
  {
   "cell_type": "code",
   "execution_count": 31,
   "id": "a8f2256e",
   "metadata": {
    "execution": {
     "iopub.execute_input": "2024-01-29T15:03:48.137168Z",
     "iopub.status.busy": "2024-01-29T15:03:48.136734Z",
     "iopub.status.idle": "2024-01-29T15:03:48.177081Z",
     "shell.execute_reply": "2024-01-29T15:03:48.175769Z"
    },
    "papermill": {
     "duration": 0.061154,
     "end_time": "2024-01-29T15:03:48.179784",
     "exception": false,
     "start_time": "2024-01-29T15:03:48.118630",
     "status": "completed"
    },
    "tags": []
   },
   "outputs": [
    {
     "data": {
      "text/plain": [
       "ID                     725\n",
       "RecipeNumber           100\n",
       "RecipeCode             100\n",
       "RecipeName             100\n",
       "UserName             13586\n",
       "UserReputation          22\n",
       "CreationTimestamp     2695\n",
       "ReplyCount               4\n",
       "ThumbsUpCount           62\n",
       "ThumbsDownCount         58\n",
       "Rating                   6\n",
       "BestScore              588\n",
       "Recipe_Review        17732\n",
       "CommentID2             100\n",
       "UserID1              13812\n",
       "dtype: int64"
      ]
     },
     "execution_count": 31,
     "metadata": {},
     "output_type": "execute_result"
    }
   ],
   "source": [
    "dataset_copy.nunique()"
   ]
  },
  {
   "cell_type": "code",
   "execution_count": 32,
   "id": "2601131f",
   "metadata": {
    "execution": {
     "iopub.execute_input": "2024-01-29T15:03:48.219881Z",
     "iopub.status.busy": "2024-01-29T15:03:48.218553Z",
     "iopub.status.idle": "2024-01-29T15:03:48.241233Z",
     "shell.execute_reply": "2024-01-29T15:03:48.240281Z"
    },
    "papermill": {
     "duration": 0.045216,
     "end_time": "2024-01-29T15:03:48.244125",
     "exception": false,
     "start_time": "2024-01-29T15:03:48.198909",
     "status": "completed"
    },
    "tags": []
   },
   "outputs": [
    {
     "name": "stdout",
     "output_type": "stream",
     "text": [
      "<class 'pandas.core.frame.DataFrame'>\n",
      "Index: 18182 entries, 0 to 4545\n",
      "Data columns (total 15 columns):\n",
      " #   Column             Non-Null Count  Dtype  \n",
      "---  ------             --------------  -----  \n",
      " 0   ID                 18182 non-null  int64  \n",
      " 1   RecipeNumber       18182 non-null  int64  \n",
      " 2   RecipeCode         18182 non-null  int64  \n",
      " 3   RecipeName         18182 non-null  object \n",
      " 4   UserName           18182 non-null  object \n",
      " 5   UserReputation     18182 non-null  int64  \n",
      " 6   CreationTimestamp  18182 non-null  int64  \n",
      " 7   ReplyCount         18182 non-null  int64  \n",
      " 8   ThumbsUpCount      18182 non-null  int64  \n",
      " 9   ThumbsDownCount    18182 non-null  int64  \n",
      " 10  Rating             13636 non-null  float64\n",
      " 11  BestScore          18182 non-null  int64  \n",
      " 12  Recipe_Review      18182 non-null  object \n",
      " 13  CommentID2         18182 non-null  int64  \n",
      " 14  UserID1            18182 non-null  object \n",
      "dtypes: float64(1), int64(10), object(4)\n",
      "memory usage: 2.2+ MB\n"
     ]
    }
   ],
   "source": [
    "dataset_copy.info()"
   ]
  },
  {
   "cell_type": "code",
   "execution_count": 33,
   "id": "efb0b605",
   "metadata": {
    "execution": {
     "iopub.execute_input": "2024-01-29T15:03:48.284285Z",
     "iopub.status.busy": "2024-01-29T15:03:48.283792Z",
     "iopub.status.idle": "2024-01-29T15:03:48.292542Z",
     "shell.execute_reply": "2024-01-29T15:03:48.291560Z"
    },
    "papermill": {
     "duration": 0.032559,
     "end_time": "2024-01-29T15:03:48.295019",
     "exception": false,
     "start_time": "2024-01-29T15:03:48.262460",
     "status": "completed"
    },
    "tags": []
   },
   "outputs": [],
   "source": [
    "X=dataset_copy.drop('Rating',axis=1)"
   ]
  },
  {
   "cell_type": "code",
   "execution_count": 34,
   "id": "8ce92d19",
   "metadata": {
    "execution": {
     "iopub.execute_input": "2024-01-29T15:03:48.332331Z",
     "iopub.status.busy": "2024-01-29T15:03:48.331636Z",
     "iopub.status.idle": "2024-01-29T15:03:48.336146Z",
     "shell.execute_reply": "2024-01-29T15:03:48.335271Z"
    },
    "papermill": {
     "duration": 0.025288,
     "end_time": "2024-01-29T15:03:48.338435",
     "exception": false,
     "start_time": "2024-01-29T15:03:48.313147",
     "status": "completed"
    },
    "tags": []
   },
   "outputs": [],
   "source": [
    "y=dataset_copy['Rating']"
   ]
  },
  {
   "cell_type": "markdown",
   "id": "126d06d4",
   "metadata": {},
   "source": [
    "## Data transformation \n",
    "It is a part of feature engineering  here we transform the data such that it  can be used in out models.and the size of the transformation should be optimized."
   ]
  },
  {
   "cell_type": "code",
   "execution_count": 35,
   "id": "1f0a90f2",
   "metadata": {
    "execution": {
     "iopub.execute_input": "2024-01-29T15:03:48.376463Z",
     "iopub.status.busy": "2024-01-29T15:03:48.375799Z",
     "iopub.status.idle": "2024-01-29T15:03:50.672143Z",
     "shell.execute_reply": "2024-01-29T15:03:50.670643Z"
    },
    "papermill": {
     "duration": 2.318633,
     "end_time": "2024-01-29T15:03:50.675107",
     "exception": false,
     "start_time": "2024-01-29T15:03:48.356474",
     "status": "completed"
    },
    "tags": []
   },
   "outputs": [],
   "source": [
    "from sklearn.feature_extraction.text import CountVectorizer\n",
    "vector=CountVectorizer()\n",
    "ar=[]\n",
    "text=['RecipeName','Recipe_Review']\n",
    "for i in text:\n",
    "    ar.append(vector.fit_transform(X[i]))\n",
    "    "
   ]
  },
  {
   "cell_type": "code",
   "execution_count": 36,
   "id": "c8bb6d7c",
   "metadata": {
    "execution": {
     "iopub.execute_input": "2024-01-29T15:03:50.716074Z",
     "iopub.status.busy": "2024-01-29T15:03:50.715642Z",
     "iopub.status.idle": "2024-01-29T15:03:50.899582Z",
     "shell.execute_reply": "2024-01-29T15:03:50.898365Z"
    },
    "papermill": {
     "duration": 0.206081,
     "end_time": "2024-01-29T15:03:50.902241",
     "exception": false,
     "start_time": "2024-01-29T15:03:50.696160",
     "status": "completed"
    },
    "tags": []
   },
   "outputs": [
    {
     "data": {
      "text/html": [
       "<style>#sk-container-id-1 {color: black;}#sk-container-id-1 pre{padding: 0;}#sk-container-id-1 div.sk-toggleable {background-color: white;}#sk-container-id-1 label.sk-toggleable__label {cursor: pointer;display: block;width: 100%;margin-bottom: 0;padding: 0.3em;box-sizing: border-box;text-align: center;}#sk-container-id-1 label.sk-toggleable__label-arrow:before {content: \"▸\";float: left;margin-right: 0.25em;color: #696969;}#sk-container-id-1 label.sk-toggleable__label-arrow:hover:before {color: black;}#sk-container-id-1 div.sk-estimator:hover label.sk-toggleable__label-arrow:before {color: black;}#sk-container-id-1 div.sk-toggleable__content {max-height: 0;max-width: 0;overflow: hidden;text-align: left;background-color: #f0f8ff;}#sk-container-id-1 div.sk-toggleable__content pre {margin: 0.2em;color: black;border-radius: 0.25em;background-color: #f0f8ff;}#sk-container-id-1 input.sk-toggleable__control:checked~div.sk-toggleable__content {max-height: 200px;max-width: 100%;overflow: auto;}#sk-container-id-1 input.sk-toggleable__control:checked~label.sk-toggleable__label-arrow:before {content: \"▾\";}#sk-container-id-1 div.sk-estimator input.sk-toggleable__control:checked~label.sk-toggleable__label {background-color: #d4ebff;}#sk-container-id-1 div.sk-label input.sk-toggleable__control:checked~label.sk-toggleable__label {background-color: #d4ebff;}#sk-container-id-1 input.sk-hidden--visually {border: 0;clip: rect(1px 1px 1px 1px);clip: rect(1px, 1px, 1px, 1px);height: 1px;margin: -1px;overflow: hidden;padding: 0;position: absolute;width: 1px;}#sk-container-id-1 div.sk-estimator {font-family: monospace;background-color: #f0f8ff;border: 1px dotted black;border-radius: 0.25em;box-sizing: border-box;margin-bottom: 0.5em;}#sk-container-id-1 div.sk-estimator:hover {background-color: #d4ebff;}#sk-container-id-1 div.sk-parallel-item::after {content: \"\";width: 100%;border-bottom: 1px solid gray;flex-grow: 1;}#sk-container-id-1 div.sk-label:hover label.sk-toggleable__label {background-color: #d4ebff;}#sk-container-id-1 div.sk-serial::before {content: \"\";position: absolute;border-left: 1px solid gray;box-sizing: border-box;top: 0;bottom: 0;left: 50%;z-index: 0;}#sk-container-id-1 div.sk-serial {display: flex;flex-direction: column;align-items: center;background-color: white;padding-right: 0.2em;padding-left: 0.2em;position: relative;}#sk-container-id-1 div.sk-item {position: relative;z-index: 1;}#sk-container-id-1 div.sk-parallel {display: flex;align-items: stretch;justify-content: center;background-color: white;position: relative;}#sk-container-id-1 div.sk-item::before, #sk-container-id-1 div.sk-parallel-item::before {content: \"\";position: absolute;border-left: 1px solid gray;box-sizing: border-box;top: 0;bottom: 0;left: 50%;z-index: -1;}#sk-container-id-1 div.sk-parallel-item {display: flex;flex-direction: column;z-index: 1;position: relative;background-color: white;}#sk-container-id-1 div.sk-parallel-item:first-child::after {align-self: flex-end;width: 50%;}#sk-container-id-1 div.sk-parallel-item:last-child::after {align-self: flex-start;width: 50%;}#sk-container-id-1 div.sk-parallel-item:only-child::after {width: 0;}#sk-container-id-1 div.sk-dashed-wrapped {border: 1px dashed gray;margin: 0 0.4em 0.5em 0.4em;box-sizing: border-box;padding-bottom: 0.4em;background-color: white;}#sk-container-id-1 div.sk-label label {font-family: monospace;font-weight: bold;display: inline-block;line-height: 1.2em;}#sk-container-id-1 div.sk-label-container {text-align: center;}#sk-container-id-1 div.sk-container {/* jupyter's `normalize.less` sets `[hidden] { display: none; }` but bootstrap.min.css set `[hidden] { display: none !important; }` so we also need the `!important` here to be able to override the default hidden behavior on the sphinx rendered scikit-learn.org. See: https://github.com/scikit-learn/scikit-learn/issues/21755 */display: inline-block !important;position: relative;}#sk-container-id-1 div.sk-text-repr-fallback {display: none;}</style><div id=\"sk-container-id-1\" class=\"sk-top-container\"><div class=\"sk-text-repr-fallback\"><pre>ColumnTransformer(remainder=&#x27;passthrough&#x27;,\n",
       "                  transformers=[(&#x27;S&#x27;, StandardScaler(),\n",
       "                                 [&#x27;ID&#x27;, &#x27;RecipeNumber&#x27;, &#x27;RecipeCode&#x27;,\n",
       "                                  &#x27;UserReputation&#x27;, &#x27;CreationTimestamp&#x27;,\n",
       "                                  &#x27;ReplyCount&#x27;, &#x27;ThumbsUpCount&#x27;,\n",
       "                                  &#x27;ThumbsDownCount&#x27;, &#x27;BestScore&#x27;,\n",
       "                                  &#x27;CommentID2&#x27;]),\n",
       "                                (&#x27;hot&#x27;, OneHotEncoder(),\n",
       "                                 [&#x27;UserID1&#x27;, &#x27;UserName&#x27;])])</pre><b>In a Jupyter environment, please rerun this cell to show the HTML representation or trust the notebook. <br />On GitHub, the HTML representation is unable to render, please try loading this page with nbviewer.org.</b></div><div class=\"sk-container\" hidden><div class=\"sk-item sk-dashed-wrapped\"><div class=\"sk-label-container\"><div class=\"sk-label sk-toggleable\"><input class=\"sk-toggleable__control sk-hidden--visually\" id=\"sk-estimator-id-1\" type=\"checkbox\" ><label for=\"sk-estimator-id-1\" class=\"sk-toggleable__label sk-toggleable__label-arrow\">ColumnTransformer</label><div class=\"sk-toggleable__content\"><pre>ColumnTransformer(remainder=&#x27;passthrough&#x27;,\n",
       "                  transformers=[(&#x27;S&#x27;, StandardScaler(),\n",
       "                                 [&#x27;ID&#x27;, &#x27;RecipeNumber&#x27;, &#x27;RecipeCode&#x27;,\n",
       "                                  &#x27;UserReputation&#x27;, &#x27;CreationTimestamp&#x27;,\n",
       "                                  &#x27;ReplyCount&#x27;, &#x27;ThumbsUpCount&#x27;,\n",
       "                                  &#x27;ThumbsDownCount&#x27;, &#x27;BestScore&#x27;,\n",
       "                                  &#x27;CommentID2&#x27;]),\n",
       "                                (&#x27;hot&#x27;, OneHotEncoder(),\n",
       "                                 [&#x27;UserID1&#x27;, &#x27;UserName&#x27;])])</pre></div></div></div><div class=\"sk-parallel\"><div class=\"sk-parallel-item\"><div class=\"sk-item\"><div class=\"sk-label-container\"><div class=\"sk-label sk-toggleable\"><input class=\"sk-toggleable__control sk-hidden--visually\" id=\"sk-estimator-id-2\" type=\"checkbox\" ><label for=\"sk-estimator-id-2\" class=\"sk-toggleable__label sk-toggleable__label-arrow\">S</label><div class=\"sk-toggleable__content\"><pre>[&#x27;ID&#x27;, &#x27;RecipeNumber&#x27;, &#x27;RecipeCode&#x27;, &#x27;UserReputation&#x27;, &#x27;CreationTimestamp&#x27;, &#x27;ReplyCount&#x27;, &#x27;ThumbsUpCount&#x27;, &#x27;ThumbsDownCount&#x27;, &#x27;BestScore&#x27;, &#x27;CommentID2&#x27;]</pre></div></div></div><div class=\"sk-serial\"><div class=\"sk-item\"><div class=\"sk-estimator sk-toggleable\"><input class=\"sk-toggleable__control sk-hidden--visually\" id=\"sk-estimator-id-3\" type=\"checkbox\" ><label for=\"sk-estimator-id-3\" class=\"sk-toggleable__label sk-toggleable__label-arrow\">StandardScaler</label><div class=\"sk-toggleable__content\"><pre>StandardScaler()</pre></div></div></div></div></div></div><div class=\"sk-parallel-item\"><div class=\"sk-item\"><div class=\"sk-label-container\"><div class=\"sk-label sk-toggleable\"><input class=\"sk-toggleable__control sk-hidden--visually\" id=\"sk-estimator-id-4\" type=\"checkbox\" ><label for=\"sk-estimator-id-4\" class=\"sk-toggleable__label sk-toggleable__label-arrow\">hot</label><div class=\"sk-toggleable__content\"><pre>[&#x27;UserID1&#x27;, &#x27;UserName&#x27;]</pre></div></div></div><div class=\"sk-serial\"><div class=\"sk-item\"><div class=\"sk-estimator sk-toggleable\"><input class=\"sk-toggleable__control sk-hidden--visually\" id=\"sk-estimator-id-5\" type=\"checkbox\" ><label for=\"sk-estimator-id-5\" class=\"sk-toggleable__label sk-toggleable__label-arrow\">OneHotEncoder</label><div class=\"sk-toggleable__content\"><pre>OneHotEncoder()</pre></div></div></div></div></div></div><div class=\"sk-parallel-item\"><div class=\"sk-item\"><div class=\"sk-label-container\"><div class=\"sk-label sk-toggleable\"><input class=\"sk-toggleable__control sk-hidden--visually\" id=\"sk-estimator-id-6\" type=\"checkbox\" ><label for=\"sk-estimator-id-6\" class=\"sk-toggleable__label sk-toggleable__label-arrow\">remainder</label><div class=\"sk-toggleable__content\"><pre>[]</pre></div></div></div><div class=\"sk-serial\"><div class=\"sk-item\"><div class=\"sk-estimator sk-toggleable\"><input class=\"sk-toggleable__control sk-hidden--visually\" id=\"sk-estimator-id-7\" type=\"checkbox\" ><label for=\"sk-estimator-id-7\" class=\"sk-toggleable__label sk-toggleable__label-arrow\">passthrough</label><div class=\"sk-toggleable__content\"><pre>passthrough</pre></div></div></div></div></div></div></div></div></div></div>"
      ],
      "text/plain": [
       "ColumnTransformer(remainder='passthrough',\n",
       "                  transformers=[('S', StandardScaler(),\n",
       "                                 ['ID', 'RecipeNumber', 'RecipeCode',\n",
       "                                  'UserReputation', 'CreationTimestamp',\n",
       "                                  'ReplyCount', 'ThumbsUpCount',\n",
       "                                  'ThumbsDownCount', 'BestScore',\n",
       "                                  'CommentID2']),\n",
       "                                ('hot', OneHotEncoder(),\n",
       "                                 ['UserID1', 'UserName'])])"
      ]
     },
     "execution_count": 36,
     "metadata": {},
     "output_type": "execute_result"
    }
   ],
   "source": [
    "\n",
    "\n",
    "from sklearn.preprocessing import OneHotEncoder  , StandardScaler \n",
    "\n",
    "from sklearn.compose import ColumnTransformer\n",
    "from sklearn.pipeline import Pipeline\n",
    "\n",
    "num=X.select_dtypes(include='number').columns.tolist()\n",
    "cat=['UserID1','UserName']\n",
    "transformers=[\n",
    "    ('S',StandardScaler(),num),\n",
    "    ('hot',OneHotEncoder(),cat),\n",
    "   ]\n",
    "col_transformer=ColumnTransformer(transformers, remainder='passthrough')\n",
    "col_transformer.fit(X.drop(text,axis=1))"
   ]
  },
  {
   "cell_type": "code",
   "execution_count": 37,
   "id": "8261d2d0",
   "metadata": {
    "execution": {
     "iopub.execute_input": "2024-01-29T15:03:50.942602Z",
     "iopub.status.busy": "2024-01-29T15:03:50.941787Z",
     "iopub.status.idle": "2024-01-29T15:03:51.053412Z",
     "shell.execute_reply": "2024-01-29T15:03:51.052111Z"
    },
    "papermill": {
     "duration": 0.13568,
     "end_time": "2024-01-29T15:03:51.056417",
     "exception": false,
     "start_time": "2024-01-29T15:03:50.920737",
     "status": "completed"
    },
    "tags": []
   },
   "outputs": [],
   "source": [
    "X_new=col_transformer.transform(X.drop(text,axis=1))"
   ]
  },
  {
   "cell_type": "code",
   "execution_count": 38,
   "id": "de18042f",
   "metadata": {
    "execution": {
     "iopub.execute_input": "2024-01-29T15:03:51.093651Z",
     "iopub.status.busy": "2024-01-29T15:03:51.093180Z",
     "iopub.status.idle": "2024-01-29T15:03:51.100776Z",
     "shell.execute_reply": "2024-01-29T15:03:51.099582Z"
    },
    "papermill": {
     "duration": 0.028725,
     "end_time": "2024-01-29T15:03:51.103106",
     "exception": false,
     "start_time": "2024-01-29T15:03:51.074381",
     "status": "completed"
    },
    "tags": []
   },
   "outputs": [
    {
     "data": {
      "text/plain": [
       "(18182, 27408)"
      ]
     },
     "execution_count": 38,
     "metadata": {},
     "output_type": "execute_result"
    }
   ],
   "source": [
    "X_new.shape"
   ]
  },
  {
   "cell_type": "code",
   "execution_count": 39,
   "id": "6aede89d",
   "metadata": {
    "execution": {
     "iopub.execute_input": "2024-01-29T15:03:51.141540Z",
     "iopub.status.busy": "2024-01-29T15:03:51.140914Z",
     "iopub.status.idle": "2024-01-29T15:03:51.176300Z",
     "shell.execute_reply": "2024-01-29T15:03:51.174996Z"
    },
    "papermill": {
     "duration": 0.058413,
     "end_time": "2024-01-29T15:03:51.179345",
     "exception": false,
     "start_time": "2024-01-29T15:03:51.120932",
     "status": "completed"
    },
    "tags": []
   },
   "outputs": [],
   "source": [
    "import scipy.sparse\n",
    "X_new=scipy.sparse.hstack([X_new,ar[0],ar[1]])"
   ]
  },
  {
   "cell_type": "code",
   "execution_count": 40,
   "id": "82971868",
   "metadata": {
    "execution": {
     "iopub.execute_input": "2024-01-29T15:03:51.217638Z",
     "iopub.status.busy": "2024-01-29T15:03:51.216746Z",
     "iopub.status.idle": "2024-01-29T15:03:51.224421Z",
     "shell.execute_reply": "2024-01-29T15:03:51.223237Z"
    },
    "papermill": {
     "duration": 0.029502,
     "end_time": "2024-01-29T15:03:51.226870",
     "exception": false,
     "start_time": "2024-01-29T15:03:51.197368",
     "status": "completed"
    },
    "tags": []
   },
   "outputs": [
    {
     "data": {
      "text/plain": [
       "(18182, 39571)"
      ]
     },
     "execution_count": 40,
     "metadata": {},
     "output_type": "execute_result"
    }
   ],
   "source": [
    "X_new.shape"
   ]
  },
  {
   "cell_type": "code",
   "execution_count": 41,
   "id": "6d145d55",
   "metadata": {
    "execution": {
     "iopub.execute_input": "2024-01-29T15:03:51.269923Z",
     "iopub.status.busy": "2024-01-29T15:03:51.269108Z",
     "iopub.status.idle": "2024-01-29T15:03:51.277533Z",
     "shell.execute_reply": "2024-01-29T15:03:51.276207Z"
    },
    "papermill": {
     "duration": 0.035457,
     "end_time": "2024-01-29T15:03:51.280933",
     "exception": false,
     "start_time": "2024-01-29T15:03:51.245476",
     "status": "completed"
    },
    "tags": []
   },
   "outputs": [
    {
     "data": {
      "text/plain": [
       "(18182, 39571)"
      ]
     },
     "execution_count": 41,
     "metadata": {},
     "output_type": "execute_result"
    }
   ],
   "source": [
    "X_new.shape"
   ]
  },
  {
   "cell_type": "markdown",
   "id": "1146a221",
   "metadata": {},
   "source": [
    "# Model Building and evaluation \n",
    "here we will train various models with our data then evaluate our data with evaluation metrices"
   ]
  },
  {
   "cell_type": "code",
   "execution_count": 42,
   "id": "ae98636b",
   "metadata": {
    "execution": {
     "iopub.execute_input": "2024-01-29T15:03:51.331375Z",
     "iopub.status.busy": "2024-01-29T15:03:51.330602Z",
     "iopub.status.idle": "2024-01-29T15:03:51.437117Z",
     "shell.execute_reply": "2024-01-29T15:03:51.435849Z"
    },
    "papermill": {
     "duration": 0.135126,
     "end_time": "2024-01-29T15:03:51.440167",
     "exception": false,
     "start_time": "2024-01-29T15:03:51.305041",
     "status": "completed"
    },
    "tags": []
   },
   "outputs": [],
   "source": [
    "X_train=X_new[:train_set.last_valid_index()+1,:]\n",
    "y_train=train_set['Rating']\n",
    "X_test=X_new[train_set.last_valid_index()+1:,:]\n",
    "y_test=test_set['Rating']"
   ]
  },
  {
   "cell_type": "markdown",
   "id": "e1bb90aa",
   "metadata": {},
   "source": [
    "# XGBClassifier"
   ]
  },
  {
   "cell_type": "code",
   "execution_count": 43,
   "id": "7b06ca41",
   "metadata": {
    "execution": {
     "iopub.execute_input": "2024-01-29T15:03:51.478905Z",
     "iopub.status.busy": "2024-01-29T15:03:51.478451Z",
     "iopub.status.idle": "2024-01-29T15:04:16.631882Z",
     "shell.execute_reply": "2024-01-29T15:04:16.630654Z"
    },
    "papermill": {
     "duration": 25.175195,
     "end_time": "2024-01-29T15:04:16.634600",
     "exception": false,
     "start_time": "2024-01-29T15:03:51.459405",
     "status": "completed"
    },
    "tags": []
   },
   "outputs": [
    {
     "data": {
      "text/html": [
       "<style>#sk-container-id-2 {color: black;}#sk-container-id-2 pre{padding: 0;}#sk-container-id-2 div.sk-toggleable {background-color: white;}#sk-container-id-2 label.sk-toggleable__label {cursor: pointer;display: block;width: 100%;margin-bottom: 0;padding: 0.3em;box-sizing: border-box;text-align: center;}#sk-container-id-2 label.sk-toggleable__label-arrow:before {content: \"▸\";float: left;margin-right: 0.25em;color: #696969;}#sk-container-id-2 label.sk-toggleable__label-arrow:hover:before {color: black;}#sk-container-id-2 div.sk-estimator:hover label.sk-toggleable__label-arrow:before {color: black;}#sk-container-id-2 div.sk-toggleable__content {max-height: 0;max-width: 0;overflow: hidden;text-align: left;background-color: #f0f8ff;}#sk-container-id-2 div.sk-toggleable__content pre {margin: 0.2em;color: black;border-radius: 0.25em;background-color: #f0f8ff;}#sk-container-id-2 input.sk-toggleable__control:checked~div.sk-toggleable__content {max-height: 200px;max-width: 100%;overflow: auto;}#sk-container-id-2 input.sk-toggleable__control:checked~label.sk-toggleable__label-arrow:before {content: \"▾\";}#sk-container-id-2 div.sk-estimator input.sk-toggleable__control:checked~label.sk-toggleable__label {background-color: #d4ebff;}#sk-container-id-2 div.sk-label input.sk-toggleable__control:checked~label.sk-toggleable__label {background-color: #d4ebff;}#sk-container-id-2 input.sk-hidden--visually {border: 0;clip: rect(1px 1px 1px 1px);clip: rect(1px, 1px, 1px, 1px);height: 1px;margin: -1px;overflow: hidden;padding: 0;position: absolute;width: 1px;}#sk-container-id-2 div.sk-estimator {font-family: monospace;background-color: #f0f8ff;border: 1px dotted black;border-radius: 0.25em;box-sizing: border-box;margin-bottom: 0.5em;}#sk-container-id-2 div.sk-estimator:hover {background-color: #d4ebff;}#sk-container-id-2 div.sk-parallel-item::after {content: \"\";width: 100%;border-bottom: 1px solid gray;flex-grow: 1;}#sk-container-id-2 div.sk-label:hover label.sk-toggleable__label {background-color: #d4ebff;}#sk-container-id-2 div.sk-serial::before {content: \"\";position: absolute;border-left: 1px solid gray;box-sizing: border-box;top: 0;bottom: 0;left: 50%;z-index: 0;}#sk-container-id-2 div.sk-serial {display: flex;flex-direction: column;align-items: center;background-color: white;padding-right: 0.2em;padding-left: 0.2em;position: relative;}#sk-container-id-2 div.sk-item {position: relative;z-index: 1;}#sk-container-id-2 div.sk-parallel {display: flex;align-items: stretch;justify-content: center;background-color: white;position: relative;}#sk-container-id-2 div.sk-item::before, #sk-container-id-2 div.sk-parallel-item::before {content: \"\";position: absolute;border-left: 1px solid gray;box-sizing: border-box;top: 0;bottom: 0;left: 50%;z-index: -1;}#sk-container-id-2 div.sk-parallel-item {display: flex;flex-direction: column;z-index: 1;position: relative;background-color: white;}#sk-container-id-2 div.sk-parallel-item:first-child::after {align-self: flex-end;width: 50%;}#sk-container-id-2 div.sk-parallel-item:last-child::after {align-self: flex-start;width: 50%;}#sk-container-id-2 div.sk-parallel-item:only-child::after {width: 0;}#sk-container-id-2 div.sk-dashed-wrapped {border: 1px dashed gray;margin: 0 0.4em 0.5em 0.4em;box-sizing: border-box;padding-bottom: 0.4em;background-color: white;}#sk-container-id-2 div.sk-label label {font-family: monospace;font-weight: bold;display: inline-block;line-height: 1.2em;}#sk-container-id-2 div.sk-label-container {text-align: center;}#sk-container-id-2 div.sk-container {/* jupyter's `normalize.less` sets `[hidden] { display: none; }` but bootstrap.min.css set `[hidden] { display: none !important; }` so we also need the `!important` here to be able to override the default hidden behavior on the sphinx rendered scikit-learn.org. See: https://github.com/scikit-learn/scikit-learn/issues/21755 */display: inline-block !important;position: relative;}#sk-container-id-2 div.sk-text-repr-fallback {display: none;}</style><div id=\"sk-container-id-2\" class=\"sk-top-container\"><div class=\"sk-text-repr-fallback\"><pre>XGBClassifier(base_score=None, booster=None, callbacks=None,\n",
       "              colsample_bylevel=None, colsample_bynode=None,\n",
       "              colsample_bytree=None, device=None, early_stopping_rounds=None,\n",
       "              enable_categorical=False, eval_metric=None, feature_types=None,\n",
       "              gamma=None, grow_policy=None, importance_type=None,\n",
       "              interaction_constraints=None, learning_rate=None, max_bin=None,\n",
       "              max_cat_threshold=None, max_cat_to_onehot=None,\n",
       "              max_delta_step=None, max_depth=None, max_leaves=None,\n",
       "              min_child_weight=None, missing=nan, monotone_constraints=None,\n",
       "              multi_strategy=None, n_estimators=None, n_jobs=None,\n",
       "              num_parallel_tree=None, objective=&#x27;multi:softprob&#x27;, ...)</pre><b>In a Jupyter environment, please rerun this cell to show the HTML representation or trust the notebook. <br />On GitHub, the HTML representation is unable to render, please try loading this page with nbviewer.org.</b></div><div class=\"sk-container\" hidden><div class=\"sk-item\"><div class=\"sk-estimator sk-toggleable\"><input class=\"sk-toggleable__control sk-hidden--visually\" id=\"sk-estimator-id-8\" type=\"checkbox\" checked><label for=\"sk-estimator-id-8\" class=\"sk-toggleable__label sk-toggleable__label-arrow\">XGBClassifier</label><div class=\"sk-toggleable__content\"><pre>XGBClassifier(base_score=None, booster=None, callbacks=None,\n",
       "              colsample_bylevel=None, colsample_bynode=None,\n",
       "              colsample_bytree=None, device=None, early_stopping_rounds=None,\n",
       "              enable_categorical=False, eval_metric=None, feature_types=None,\n",
       "              gamma=None, grow_policy=None, importance_type=None,\n",
       "              interaction_constraints=None, learning_rate=None, max_bin=None,\n",
       "              max_cat_threshold=None, max_cat_to_onehot=None,\n",
       "              max_delta_step=None, max_depth=None, max_leaves=None,\n",
       "              min_child_weight=None, missing=nan, monotone_constraints=None,\n",
       "              multi_strategy=None, n_estimators=None, n_jobs=None,\n",
       "              num_parallel_tree=None, objective=&#x27;multi:softprob&#x27;, ...)</pre></div></div></div></div></div>"
      ],
      "text/plain": [
       "XGBClassifier(base_score=None, booster=None, callbacks=None,\n",
       "              colsample_bylevel=None, colsample_bynode=None,\n",
       "              colsample_bytree=None, device=None, early_stopping_rounds=None,\n",
       "              enable_categorical=False, eval_metric=None, feature_types=None,\n",
       "              gamma=None, grow_policy=None, importance_type=None,\n",
       "              interaction_constraints=None, learning_rate=None, max_bin=None,\n",
       "              max_cat_threshold=None, max_cat_to_onehot=None,\n",
       "              max_delta_step=None, max_depth=None, max_leaves=None,\n",
       "              min_child_weight=None, missing=nan, monotone_constraints=None,\n",
       "              multi_strategy=None, n_estimators=None, n_jobs=None,\n",
       "              num_parallel_tree=None, objective='multi:softprob', ...)"
      ]
     },
     "execution_count": 43,
     "metadata": {},
     "output_type": "execute_result"
    }
   ],
   "source": [
    "from xgboost import XGBClassifier\n",
    "clf=XGBClassifier()\n",
    "clf.fit(X_train,y_train)"
   ]
  },
  {
   "cell_type": "code",
   "execution_count": 44,
   "id": "ab2914be",
   "metadata": {
    "execution": {
     "iopub.execute_input": "2024-01-29T15:04:16.673381Z",
     "iopub.status.busy": "2024-01-29T15:04:16.672227Z",
     "iopub.status.idle": "2024-01-29T15:04:16.932599Z",
     "shell.execute_reply": "2024-01-29T15:04:16.931747Z"
    },
    "papermill": {
     "duration": 0.282574,
     "end_time": "2024-01-29T15:04:16.934951",
     "exception": false,
     "start_time": "2024-01-29T15:04:16.652377",
     "status": "completed"
    },
    "tags": []
   },
   "outputs": [
    {
     "data": {
      "text/plain": [
       "0.9097242593135817"
      ]
     },
     "execution_count": 44,
     "metadata": {},
     "output_type": "execute_result"
    }
   ],
   "source": [
    "from sklearn.metrics import accuracy_score,confusion_matrix,f1_score\n",
    "y_train_xgb_predicted=clf.predict(X_train)\n",
    "accuracy_score(y_train,y_train_xgb_predicted)"
   ]
  },
  {
   "cell_type": "code",
   "execution_count": 48,
   "id": "9a349aa8",
   "metadata": {},
   "outputs": [
    {
     "data": {
      "text/plain": [
       "0.9001871774135202"
      ]
     },
     "execution_count": 48,
     "metadata": {},
     "output_type": "execute_result"
    }
   ],
   "source": [
    "f1_score(y_train,y_train_xgb_predicted,average='weighted')"
   ]
  },
  {
   "cell_type": "code",
   "execution_count": 49,
   "id": "6d88dc8b",
   "metadata": {
    "execution": {
     "iopub.execute_input": "2024-01-29T15:04:16.973444Z",
     "iopub.status.busy": "2024-01-29T15:04:16.972651Z",
     "iopub.status.idle": "2024-01-29T15:04:17.751819Z",
     "shell.execute_reply": "2024-01-29T15:04:17.750469Z"
    },
    "papermill": {
     "duration": 0.80117,
     "end_time": "2024-01-29T15:04:17.754550",
     "exception": false,
     "start_time": "2024-01-29T15:04:16.953380",
     "status": "completed"
    },
    "tags": []
   },
   "outputs": [
    {
     "data": {
      "image/png": "[encoded data removed]",
      "text/plain": [
       "<Figure size 576x432 with 2 Axes>"
      ]
     },
     "metadata": {
      "needs_background": "light"
     },
     "output_type": "display_data"
    }
   ],
   "source": [
    "import matplotlib.pyplot as plt\n",
    "import seaborn as sns\n",
    "cm=confusion_matrix(y_train,y_train_xgb_predicted)\n",
    "plt.figure(figsize=(8, 6))\n",
    "sns.heatmap(cm, annot=True, fmt='d', cmap='Blues', xticklabels=['0', '1', '2','3','4','5'], yticklabels=['0', '1', '2','3','4','5'])\n",
    "plt.xlabel('Predicted')\n",
    "plt.ylabel('True')\n",
    "plt.title('Confusion Matrix')\n",
    "plt.show()"
   ]
  },
  {
   "cell_type": "code",
   "execution_count": 50,
   "id": "387ee22f",
   "metadata": {
    "execution": {
     "iopub.execute_input": "2024-01-29T15:04:17.793876Z",
     "iopub.status.busy": "2024-01-29T15:04:17.793046Z",
     "iopub.status.idle": "2024-01-29T15:04:17.897108Z",
     "shell.execute_reply": "2024-01-29T15:04:17.896146Z"
    },
    "papermill": {
     "duration": 0.126636,
     "end_time": "2024-01-29T15:04:17.899706",
     "exception": false,
     "start_time": "2024-01-29T15:04:17.773070",
     "status": "completed"
    },
    "tags": []
   },
   "outputs": [],
   "source": [
    "y_predict_xgb=clf.predict(X_test)\n",
    "result_xgb = pd.DataFrame({\n",
    "    'ID': [x for x in range(1, len(y_test) + 1)],\n",
    "    'Rating': y_predict_xgb\n",
    "})\n",
    "result_xgb.to_csv('xgbclassifier.csv',index=False)"
   ]
  },
  {
   "cell_type": "markdown",
   "id": "d397cd4e",
   "metadata": {},
   "source": [
    "# RandomForestClassifier"
   ]
  },
  {
   "cell_type": "code",
   "execution_count": 51,
   "id": "f64b9f59",
   "metadata": {
    "execution": {
     "iopub.execute_input": "2024-01-29T15:04:17.938900Z",
     "iopub.status.busy": "2024-01-29T15:04:17.938143Z",
     "iopub.status.idle": "2024-01-29T15:05:23.883408Z",
     "shell.execute_reply": "2024-01-29T15:05:23.881986Z"
    },
    "papermill": {
     "duration": 65.988212,
     "end_time": "2024-01-29T15:05:23.906459",
     "exception": false,
     "start_time": "2024-01-29T15:04:17.918247",
     "status": "completed"
    },
    "tags": []
   },
   "outputs": [
    {
     "data": {
      "text/html": [
       "<style>#sk-container-id-3 {color: black;}#sk-container-id-3 pre{padding: 0;}#sk-container-id-3 div.sk-toggleable {background-color: white;}#sk-container-id-3 label.sk-toggleable__label {cursor: pointer;display: block;width: 100%;margin-bottom: 0;padding: 0.3em;box-sizing: border-box;text-align: center;}#sk-container-id-3 label.sk-toggleable__label-arrow:before {content: \"▸\";float: left;margin-right: 0.25em;color: #696969;}#sk-container-id-3 label.sk-toggleable__label-arrow:hover:before {color: black;}#sk-container-id-3 div.sk-estimator:hover label.sk-toggleable__label-arrow:before {color: black;}#sk-container-id-3 div.sk-toggleable__content {max-height: 0;max-width: 0;overflow: hidden;text-align: left;background-color: #f0f8ff;}#sk-container-id-3 div.sk-toggleable__content pre {margin: 0.2em;color: black;border-radius: 0.25em;background-color: #f0f8ff;}#sk-container-id-3 input.sk-toggleable__control:checked~div.sk-toggleable__content {max-height: 200px;max-width: 100%;overflow: auto;}#sk-container-id-3 input.sk-toggleable__control:checked~label.sk-toggleable__label-arrow:before {content: \"▾\";}#sk-container-id-3 div.sk-estimator input.sk-toggleable__control:checked~label.sk-toggleable__label {background-color: #d4ebff;}#sk-container-id-3 div.sk-label input.sk-toggleable__control:checked~label.sk-toggleable__label {background-color: #d4ebff;}#sk-container-id-3 input.sk-hidden--visually {border: 0;clip: rect(1px 1px 1px 1px);clip: rect(1px, 1px, 1px, 1px);height: 1px;margin: -1px;overflow: hidden;padding: 0;position: absolute;width: 1px;}#sk-container-id-3 div.sk-estimator {font-family: monospace;background-color: #f0f8ff;border: 1px dotted black;border-radius: 0.25em;box-sizing: border-box;margin-bottom: 0.5em;}#sk-container-id-3 div.sk-estimator:hover {background-color: #d4ebff;}#sk-container-id-3 div.sk-parallel-item::after {content: \"\";width: 100%;border-bottom: 1px solid gray;flex-grow: 1;}#sk-container-id-3 div.sk-label:hover label.sk-toggleable__label {background-color: #d4ebff;}#sk-container-id-3 div.sk-serial::before {content: \"\";position: absolute;border-left: 1px solid gray;box-sizing: border-box;top: 0;bottom: 0;left: 50%;z-index: 0;}#sk-container-id-3 div.sk-serial {display: flex;flex-direction: column;align-items: center;background-color: white;padding-right: 0.2em;padding-left: 0.2em;position: relative;}#sk-container-id-3 div.sk-item {position: relative;z-index: 1;}#sk-container-id-3 div.sk-parallel {display: flex;align-items: stretch;justify-content: center;background-color: white;position: relative;}#sk-container-id-3 div.sk-item::before, #sk-container-id-3 div.sk-parallel-item::before {content: \"\";position: absolute;border-left: 1px solid gray;box-sizing: border-box;top: 0;bottom: 0;left: 50%;z-index: -1;}#sk-container-id-3 div.sk-parallel-item {display: flex;flex-direction: column;z-index: 1;position: relative;background-color: white;}#sk-container-id-3 div.sk-parallel-item:first-child::after {align-self: flex-end;width: 50%;}#sk-container-id-3 div.sk-parallel-item:last-child::after {align-self: flex-start;width: 50%;}#sk-container-id-3 div.sk-parallel-item:only-child::after {width: 0;}#sk-container-id-3 div.sk-dashed-wrapped {border: 1px dashed gray;margin: 0 0.4em 0.5em 0.4em;box-sizing: border-box;padding-bottom: 0.4em;background-color: white;}#sk-container-id-3 div.sk-label label {font-family: monospace;font-weight: bold;display: inline-block;line-height: 1.2em;}#sk-container-id-3 div.sk-label-container {text-align: center;}#sk-container-id-3 div.sk-container {/* jupyter's `normalize.less` sets `[hidden] { display: none; }` but bootstrap.min.css set `[hidden] { display: none !important; }` so we also need the `!important` here to be able to override the default hidden behavior on the sphinx rendered scikit-learn.org. See: https://github.com/scikit-learn/scikit-learn/issues/21755 */display: inline-block !important;position: relative;}#sk-container-id-3 div.sk-text-repr-fallback {display: none;}</style><div id=\"sk-container-id-3\" class=\"sk-top-container\"><div class=\"sk-text-repr-fallback\"><pre>RandomForestClassifier(n_estimators=300, n_jobs=-1)</pre><b>In a Jupyter environment, please rerun this cell to show the HTML representation or trust the notebook. <br />On GitHub, the HTML representation is unable to render, please try loading this page with nbviewer.org.</b></div><div class=\"sk-container\" hidden><div class=\"sk-item\"><div class=\"sk-estimator sk-toggleable\"><input class=\"sk-toggleable__control sk-hidden--visually\" id=\"sk-estimator-id-9\" type=\"checkbox\" checked><label for=\"sk-estimator-id-9\" class=\"sk-toggleable__label sk-toggleable__label-arrow\">RandomForestClassifier</label><div class=\"sk-toggleable__content\"><pre>RandomForestClassifier(n_estimators=300, n_jobs=-1)</pre></div></div></div></div></div>"
      ],
      "text/plain": [
       "RandomForestClassifier(n_estimators=300, n_jobs=-1)"
      ]
     },
     "execution_count": 51,
     "metadata": {},
     "output_type": "execute_result"
    }
   ],
   "source": [
    "from sklearn.ensemble import RandomForestClassifier\n",
    "rndclf=RandomForestClassifier(n_estimators=300,n_jobs=-1)\n",
    "rndclf.fit(X_train,y_train)"
   ]
  },
  {
   "cell_type": "code",
   "execution_count": 52,
   "id": "b58430b4",
   "metadata": {
    "execution": {
     "iopub.execute_input": "2024-01-29T15:05:23.948788Z",
     "iopub.status.busy": "2024-01-29T15:05:23.947494Z",
     "iopub.status.idle": "2024-01-29T15:05:25.262278Z",
     "shell.execute_reply": "2024-01-29T15:05:25.260917Z"
    },
    "papermill": {
     "duration": 1.338872,
     "end_time": "2024-01-29T15:05:25.265105",
     "exception": false,
     "start_time": "2024-01-29T15:05:23.926233",
     "status": "completed"
    },
    "tags": []
   },
   "outputs": [
    {
     "data": {
      "text/plain": [
       "1.0"
      ]
     },
     "execution_count": 52,
     "metadata": {},
     "output_type": "execute_result"
    }
   ],
   "source": [
    "y_predict_rnd_train=rndclf.predict(X_train)\n",
    "accuracy_score(y_predict_rnd_train,y_train)"
   ]
  },
  {
   "cell_type": "code",
   "execution_count": 53,
   "id": "5ba7b6f8",
   "metadata": {},
   "outputs": [
    {
     "data": {
      "text/plain": [
       "1.0"
      ]
     },
     "execution_count": 53,
     "metadata": {},
     "output_type": "execute_result"
    }
   ],
   "source": [
    "f1_score(y_predict_rnd_train,y_train,average='weighted')"
   ]
  },
  {
   "cell_type": "code",
   "execution_count": 54,
   "id": "fc4f4ba9",
   "metadata": {
    "execution": {
     "iopub.execute_input": "2024-01-29T15:05:25.306111Z",
     "iopub.status.busy": "2024-01-29T15:05:25.305641Z",
     "iopub.status.idle": "2024-01-29T15:05:25.723138Z",
     "shell.execute_reply": "2024-01-29T15:05:25.722114Z"
    },
    "papermill": {
     "duration": 0.441178,
     "end_time": "2024-01-29T15:05:25.725685",
     "exception": false,
     "start_time": "2024-01-29T15:05:25.284507",
     "status": "completed"
    },
    "tags": []
   },
   "outputs": [
    {
     "data": {
      "image/png": "[encoded data removed]",
      "text/plain": [
       "<Figure size 576x432 with 2 Axes>"
      ]
     },
     "metadata": {
      "needs_background": "light"
     },
     "output_type": "display_data"
    }
   ],
   "source": [
    "cm_rnd=confusion_matrix(y_train,y_predict_rnd_train)\n",
    "plt.figure(figsize=(8, 6))\n",
    "sns.heatmap(cm_rnd, annot=True, fmt='d', cmap='Blues', xticklabels=['0', '1', '2','3','4','5'], yticklabels=['0', '1', '2','3','4','5'])\n",
    "plt.xlabel('Predicted')\n",
    "plt.ylabel('True')\n",
    "plt.title('Confusion Matrix')\n",
    "plt.show()"
   ]
  },
  {
   "cell_type": "code",
   "execution_count": 55,
   "id": "6a719b53",
   "metadata": {
    "execution": {
     "iopub.execute_input": "2024-01-29T15:05:25.768655Z",
     "iopub.status.busy": "2024-01-29T15:05:25.767450Z",
     "iopub.status.idle": "2024-01-29T15:05:26.272813Z",
     "shell.execute_reply": "2024-01-29T15:05:26.271421Z"
    },
    "papermill": {
     "duration": 0.530658,
     "end_time": "2024-01-29T15:05:26.275772",
     "exception": false,
     "start_time": "2024-01-29T15:05:25.745114",
     "status": "completed"
    },
    "tags": []
   },
   "outputs": [],
   "source": [
    "y_predict_rnd=rndclf.predict(X_test)\n",
    "result_rnd = pd.DataFrame({\n",
    "    'ID': [x for x in range(1, len(y_test) + 1)],\n",
    "    'Rating': y_predict_rnd\n",
    "})\n",
    "result_rnd.to_csv('randomforestclassifier.csv',index=False)"
   ]
  }
 ],
 "metadata": {
  "kaggle": {
   "accelerator": "none",
   "dataSources": [
    {
     "databundleVersionId": 7452256,
     "sourceId": 67079,
     "sourceType": "competition"
    }
   ],
   "dockerImageVersionId": 30635,
   "isGpuEnabled": false,
   "isInternetEnabled": false,
   "language": "python",
   "sourceType": "notebook"
  },
  "kernelspec": {
   "display_name": "Python 3",
   "language": "python",
   "name": "python3"
  },
  "language_info": {
   "codemirror_mode": {
    "name": "ipython",
    "version": 3
   },
   "file_extension": ".py",
   "mimetype": "text/x-python",
   "name": "python",
   "nbconvert_exporter": "python",
   "pygments_lexer": "ipython3",
   "version": "3.10.4"
  },
  "papermill": {
   "default_parameters": {},
   "duration": 105.447913,
   "end_time": "2024-01-29T15:05:27.436498",
   "environment_variables": {},
   "exception": null,
   "input_path": "__notebook__.ipynb",
   "output_path": "__notebook__.ipynb",
   "parameters": {},
   "start_time": "2024-01-29T15:03:41.988585",
   "version": "2.4.0"
  }
 },
 "nbformat": 4,
 "nbformat_minor": 5
}
